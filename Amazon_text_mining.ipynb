{
 "cells": [
  {
   "cell_type": "code",
   "execution_count": 1,
   "metadata": {
    "ExecuteTime": {
     "end_time": "2021-02-25T11:27:59.801109Z",
     "start_time": "2021-02-25T11:27:42.759367Z"
    }
   },
   "outputs": [],
   "source": [
    "import numpy as np # linear algebra\n",
    "import pandas as pd # data processing, CSV file I/O \n",
    "import string # special operations on strings\n",
    "import spacy # language models\n",
    "\n",
    "from matplotlib.pyplot import imread\n",
    "from matplotlib import pyplot as plt\n",
    "from wordcloud import WordCloud\n",
    "%matplotlib inline "
   ]
  },
  {
   "cell_type": "code",
   "execution_count": 2,
   "metadata": {
    "ExecuteTime": {
     "end_time": "2021-02-25T11:28:04.186255Z",
     "start_time": "2021-02-25T11:28:04.153618Z"
    }
   },
   "outputs": [
    {
     "data": {
      "text/plain": [
       "(2477, 2)"
      ]
     },
     "execution_count": 2,
     "metadata": {},
     "output_type": "execute_result"
    }
   ],
   "source": [
    "afinn = pd.read_csv('Afinn.csv', sep=',', encoding='latin-1')\n",
    "afinn.shape "
   ]
  },
  {
   "cell_type": "code",
   "execution_count": 10,
   "metadata": {
    "ExecuteTime": {
     "end_time": "2021-02-25T11:41:57.865983Z",
     "start_time": "2021-02-25T11:41:57.827363Z"
    }
   },
   "outputs": [
    {
     "data": {
      "text/html": [
       "<div>\n",
       "<style scoped>\n",
       "    .dataframe tbody tr th:only-of-type {\n",
       "        vertical-align: middle;\n",
       "    }\n",
       "\n",
       "    .dataframe tbody tr th {\n",
       "        vertical-align: top;\n",
       "    }\n",
       "\n",
       "    .dataframe thead th {\n",
       "        text-align: right;\n",
       "    }\n",
       "</style>\n",
       "<table border=\"1\" class=\"dataframe\">\n",
       "  <thead>\n",
       "    <tr style=\"text-align: right;\">\n",
       "      <th></th>\n",
       "      <th>id</th>\n",
       "      <th>profileName</th>\n",
       "      <th>text</th>\n",
       "      <th>date</th>\n",
       "      <th>title</th>\n",
       "      <th>rating</th>\n",
       "      <th>images</th>\n",
       "      <th>Design</th>\n",
       "    </tr>\n",
       "  </thead>\n",
       "  <tbody>\n",
       "    <tr>\n",
       "      <th>0</th>\n",
       "      <td>R20HPZ87FKCDOE</td>\n",
       "      <td>Hinita</td>\n",
       "      <td>\\n  I would genuinely recommend this product i...</td>\n",
       "      <td>Reviewed in India on 21 August 2019</td>\n",
       "      <td>Naturally straight hair</td>\n",
       "      <td>5</td>\n",
       "      <td>https://images-na.ssl-images-amazon.com/images...</td>\n",
       "      <td>Straightening Brush</td>\n",
       "    </tr>\n",
       "    <tr>\n",
       "      <th>1</th>\n",
       "      <td>R9SE00QJAK0UM</td>\n",
       "      <td>Sree</td>\n",
       "      <td>\\n  The plug was of cheap quality. I had great...</td>\n",
       "      <td>Reviewed in India on 7 July 2019</td>\n",
       "      <td>Low quality plug</td>\n",
       "      <td>3</td>\n",
       "      <td>NaN</td>\n",
       "      <td>Straightening Brush</td>\n",
       "    </tr>\n",
       "    <tr>\n",
       "      <th>2</th>\n",
       "      <td>R2IXGNA4AEBM30</td>\n",
       "      <td>garima</td>\n",
       "      <td>\\n  My hair generally becomes frizzy after 1 d...</td>\n",
       "      <td>Reviewed in India on 10 June 2019</td>\n",
       "      <td>Easy to use.  Wonderful results.</td>\n",
       "      <td>5</td>\n",
       "      <td>NaN</td>\n",
       "      <td>Straightening Brush</td>\n",
       "    </tr>\n",
       "  </tbody>\n",
       "</table>\n",
       "</div>"
      ],
      "text/plain": [
       "               id profileName  \\\n",
       "0  R20HPZ87FKCDOE      Hinita   \n",
       "1   R9SE00QJAK0UM        Sree   \n",
       "2  R2IXGNA4AEBM30      garima   \n",
       "\n",
       "                                                text  \\\n",
       "0  \\n  I would genuinely recommend this product i...   \n",
       "1  \\n  The plug was of cheap quality. I had great...   \n",
       "2  \\n  My hair generally becomes frizzy after 1 d...   \n",
       "\n",
       "                                  date                             title  \\\n",
       "0  Reviewed in India on 21 August 2019           Naturally straight hair   \n",
       "1     Reviewed in India on 7 July 2019                  Low quality plug   \n",
       "2    Reviewed in India on 10 June 2019  Easy to use.  Wonderful results.   \n",
       "\n",
       "   rating                                             images  \\\n",
       "0       5  https://images-na.ssl-images-amazon.com/images...   \n",
       "1       3                                                NaN   \n",
       "2       5                                                NaN   \n",
       "\n",
       "                Design  \n",
       "0  Straightening Brush  \n",
       "1  Straightening Brush  \n",
       "2  Straightening Brush  "
      ]
     },
     "execution_count": 10,
     "metadata": {},
     "output_type": "execute_result"
    }
   ],
   "source": [
    "philips_straighter = pd.read_csv('Philips_Straightening_Brush.csv')\n",
    "philips_straighter.head(3)"
   ]
  },
  {
   "cell_type": "code",
   "execution_count": 11,
   "metadata": {
    "ExecuteTime": {
     "end_time": "2021-02-25T11:54:15.226868Z",
     "start_time": "2021-02-25T11:54:14.776957Z"
    }
   },
   "outputs": [
    {
     "data": {
      "text/plain": [
       "['All you have to do is run this brush over your hair - wet or dry to get smooth naturally straight hair, due to the large brush with three layers of bristles it even helps detangle your hair.',\n",
       " 'It comes with keratin protection which ensures that your hair is not damaged by the heat.',\n",
       " 'It takes only a few minutes for it to run through your hair and keep it looking smooth, frizz free and straight.',\n",
       " 'I really love the ease and the frizz free effect it has on my hair.',\n",
       " 'It comes with an LeD light which shines to let you know that it is working or is ready for use.',\n",
       " 'It feels like you are just brushing your hair.',\n",
       " 'It doesn’t overheat and damage your hair, the brush is heated uniformly as well.',\n",
       " 'I would say go for it if you have less time and want frizz free and naturally looking straight hair, it’s a good product to have on your dressing table\\n \\n  The plug was of cheap quality.',\n",
       " 'I had great difficulty to keep the plug in the socket.. Half the time the machine will not switch ON.',\n",
       " \"Not sure if I got the original cos I don't think Philips product comes with this low quality plugs..\\n \\n  My hair generally becomes frizzy after 1 day of wash. Straightener takes up quite a lot of time as I have thick hair and I needed some product that I could use before rushing to office.\"]"
      ]
     },
     "execution_count": 11,
     "metadata": {},
     "output_type": "execute_result"
    }
   ],
   "source": [
    "from nltk import tokenize\n",
    "sentences = tokenize.sent_tokenize(\" \".join(philips_straighter.text))\n",
    "sentences[5:15] "
   ]
  },
  {
   "cell_type": "code",
   "execution_count": 12,
   "metadata": {
    "ExecuteTime": {
     "end_time": "2021-02-25T11:55:00.042339Z",
     "start_time": "2021-02-25T11:55:00.024227Z"
    }
   },
   "outputs": [
    {
     "data": {
      "text/html": [
       "<div>\n",
       "<style scoped>\n",
       "    .dataframe tbody tr th:only-of-type {\n",
       "        vertical-align: middle;\n",
       "    }\n",
       "\n",
       "    .dataframe tbody tr th {\n",
       "        vertical-align: top;\n",
       "    }\n",
       "\n",
       "    .dataframe thead th {\n",
       "        text-align: right;\n",
       "    }\n",
       "</style>\n",
       "<table border=\"1\" class=\"dataframe\">\n",
       "  <thead>\n",
       "    <tr style=\"text-align: right;\">\n",
       "      <th></th>\n",
       "      <th>sentence</th>\n",
       "    </tr>\n",
       "  </thead>\n",
       "  <tbody>\n",
       "    <tr>\n",
       "      <th>0</th>\n",
       "      <td>\\n  I would genuinely recommend this product i...</td>\n",
       "    </tr>\n",
       "    <tr>\n",
       "      <th>1</th>\n",
       "      <td>Your hair doesn’t look like that horrible parl...</td>\n",
       "    </tr>\n",
       "    <tr>\n",
       "      <th>2</th>\n",
       "      <td>It comes with a plug point and an easy to use ...</td>\n",
       "    </tr>\n",
       "    <tr>\n",
       "      <th>3</th>\n",
       "      <td>Where the temperature of 2 is 200 degree and 1...</td>\n",
       "    </tr>\n",
       "    <tr>\n",
       "      <th>4</th>\n",
       "      <td>You can adjust as per your liking.</td>\n",
       "    </tr>\n",
       "    <tr>\n",
       "      <th>...</th>\n",
       "      <td>...</td>\n",
       "    </tr>\n",
       "    <tr>\n",
       "      <th>2004</th>\n",
       "      <td>I didn't notice hairfall too wch is very grt.</td>\n",
       "    </tr>\n",
       "    <tr>\n",
       "      <th>2005</th>\n",
       "      <td>I think this is a must in every woman's closet.</td>\n",
       "    </tr>\n",
       "    <tr>\n",
       "      <th>2006</th>\n",
       "      <td>Temperature control, easy to use, warmth good,...</td>\n",
       "    </tr>\n",
       "    <tr>\n",
       "      <th>2007</th>\n",
       "      <td>Give 5stars.</td>\n",
       "    </tr>\n",
       "    <tr>\n",
       "      <th>2008</th>\n",
       "      <td>any ladies can go for this, product very good.</td>\n",
       "    </tr>\n",
       "  </tbody>\n",
       "</table>\n",
       "<p>2009 rows × 1 columns</p>\n",
       "</div>"
      ],
      "text/plain": [
       "                                               sentence\n",
       "0     \\n  I would genuinely recommend this product i...\n",
       "1     Your hair doesn’t look like that horrible parl...\n",
       "2     It comes with a plug point and an easy to use ...\n",
       "3     Where the temperature of 2 is 200 degree and 1...\n",
       "4                    You can adjust as per your liking.\n",
       "...                                                 ...\n",
       "2004      I didn't notice hairfall too wch is very grt.\n",
       "2005    I think this is a must in every woman's closet.\n",
       "2006  Temperature control, easy to use, warmth good,...\n",
       "2007                                       Give 5stars.\n",
       "2008     any ladies can go for this, product very good.\n",
       "\n",
       "[2009 rows x 1 columns]"
      ]
     },
     "execution_count": 12,
     "metadata": {},
     "output_type": "execute_result"
    }
   ],
   "source": [
    "Philips_df = pd.DataFrame(sentences, columns=['sentence'])\n",
    "Philips_df "
   ]
  },
  {
   "cell_type": "code",
   "execution_count": 13,
   "metadata": {
    "ExecuteTime": {
     "end_time": "2021-02-25T11:55:28.686733Z",
     "start_time": "2021-02-25T11:55:25.906964Z"
    }
   },
   "outputs": [],
   "source": [
    "affinity_scores = afinn.set_index('word')['value'].to_dict() \n",
    "nlp = spacy.load('en_core_web_sm')\n",
    "sentiment_lexicon = affinity_scores\n",
    "\n",
    "def calculate_sentiment(text: str = None):\n",
    "    sent_score = 0\n",
    "    if text:\n",
    "        sentence = nlp(text)\n",
    "        for word in sentence:\n",
    "            sent_score += sentiment_lexicon.get(word.lemma_, 0)\n",
    "    return sent_score "
   ]
  },
  {
   "cell_type": "code",
   "execution_count": 14,
   "metadata": {
    "ExecuteTime": {
     "end_time": "2021-02-25T11:55:40.296129Z",
     "start_time": "2021-02-25T11:55:40.015382Z"
    }
   },
   "outputs": [
    {
     "data": {
      "text/plain": [
       "4"
      ]
     },
     "execution_count": 14,
     "metadata": {},
     "output_type": "execute_result"
    }
   ],
   "source": [
    "calculate_sentiment(text = 'amazing') "
   ]
  },
  {
   "cell_type": "code",
   "execution_count": 15,
   "metadata": {
    "ExecuteTime": {
     "end_time": "2021-02-25T11:55:54.742150Z",
     "start_time": "2021-02-25T11:55:54.722131Z"
    }
   },
   "outputs": [
    {
     "data": {
      "text/plain": [
       "3"
      ]
     },
     "execution_count": 15,
     "metadata": {},
     "output_type": "execute_result"
    }
   ],
   "source": [
    "#calculate_sentiment(text = 'beautiful') "
   ]
  },
  {
   "cell_type": "code",
   "execution_count": 17,
   "metadata": {
    "ExecuteTime": {
     "end_time": "2021-02-25T11:56:22.474253Z",
     "start_time": "2021-02-25T11:56:22.451189Z"
    }
   },
   "outputs": [
    {
     "data": {
      "text/plain": [
       "-2"
      ]
     },
     "execution_count": 17,
     "metadata": {},
     "output_type": "execute_result"
    }
   ],
   "source": [
    "#calculate_sentiment(text = 'very poor') "
   ]
  },
  {
   "cell_type": "code",
   "execution_count": 18,
   "metadata": {
    "ExecuteTime": {
     "end_time": "2021-02-25T11:57:28.111079Z",
     "start_time": "2021-02-25T11:56:59.334575Z"
    }
   },
   "outputs": [],
   "source": [
    "Philips_df['sentiment_value'] = Philips_df['sentence'].apply(calculate_sentiment) "
   ]
  },
  {
   "cell_type": "code",
   "execution_count": 19,
   "metadata": {
    "ExecuteTime": {
     "end_time": "2021-02-25T12:05:58.302420Z",
     "start_time": "2021-02-25T12:05:58.261812Z"
    }
   },
   "outputs": [
    {
     "data": {
      "text/plain": [
       "0    31\n",
       "1    10\n",
       "2    22\n",
       "3    13\n",
       "4     7\n",
       "5    38\n",
       "6    16\n",
       "7    22\n",
       "8    15\n",
       "9    21\n",
       "Name: word_count, dtype: int64"
      ]
     },
     "execution_count": 19,
     "metadata": {},
     "output_type": "execute_result"
    }
   ],
   "source": [
    "Philips_df['word_count'] = Philips_df['sentence'].str.split().apply(len)\n",
    "Philips_df['word_count'].head(10) "
   ]
  },
  {
   "cell_type": "code",
   "execution_count": 20,
   "metadata": {
    "ExecuteTime": {
     "end_time": "2021-02-25T12:06:22.397767Z",
     "start_time": "2021-02-25T12:06:22.375205Z"
    }
   },
   "outputs": [
    {
     "data": {
      "text/html": [
       "<div>\n",
       "<style scoped>\n",
       "    .dataframe tbody tr th:only-of-type {\n",
       "        vertical-align: middle;\n",
       "    }\n",
       "\n",
       "    .dataframe tbody tr th {\n",
       "        vertical-align: top;\n",
       "    }\n",
       "\n",
       "    .dataframe thead th {\n",
       "        text-align: right;\n",
       "    }\n",
       "</style>\n",
       "<table border=\"1\" class=\"dataframe\">\n",
       "  <thead>\n",
       "    <tr style=\"text-align: right;\">\n",
       "      <th></th>\n",
       "      <th>sentence</th>\n",
       "      <th>sentiment_value</th>\n",
       "      <th>word_count</th>\n",
       "    </tr>\n",
       "  </thead>\n",
       "  <tbody>\n",
       "    <tr>\n",
       "      <th>0</th>\n",
       "      <td>\\n  I would genuinely recommend this product i...</td>\n",
       "      <td>3</td>\n",
       "      <td>31</td>\n",
       "    </tr>\n",
       "    <tr>\n",
       "      <th>1</th>\n",
       "      <td>Your hair doesn’t look like that horrible parl...</td>\n",
       "      <td>-1</td>\n",
       "      <td>10</td>\n",
       "    </tr>\n",
       "    <tr>\n",
       "      <th>2</th>\n",
       "      <td>It comes with a plug point and an easy to use ...</td>\n",
       "      <td>1</td>\n",
       "      <td>22</td>\n",
       "    </tr>\n",
       "    <tr>\n",
       "      <th>3</th>\n",
       "      <td>Where the temperature of 2 is 200 degree and 1...</td>\n",
       "      <td>0</td>\n",
       "      <td>13</td>\n",
       "    </tr>\n",
       "    <tr>\n",
       "      <th>4</th>\n",
       "      <td>You can adjust as per your liking.</td>\n",
       "      <td>0</td>\n",
       "      <td>7</td>\n",
       "    </tr>\n",
       "    <tr>\n",
       "      <th>...</th>\n",
       "      <td>...</td>\n",
       "      <td>...</td>\n",
       "      <td>...</td>\n",
       "    </tr>\n",
       "    <tr>\n",
       "      <th>2004</th>\n",
       "      <td>I didn't notice hairfall too wch is very grt.</td>\n",
       "      <td>0</td>\n",
       "      <td>9</td>\n",
       "    </tr>\n",
       "    <tr>\n",
       "      <th>2005</th>\n",
       "      <td>I think this is a must in every woman's closet.</td>\n",
       "      <td>0</td>\n",
       "      <td>10</td>\n",
       "    </tr>\n",
       "    <tr>\n",
       "      <th>2006</th>\n",
       "      <td>Temperature control, easy to use, warmth good,...</td>\n",
       "      <td>6</td>\n",
       "      <td>10</td>\n",
       "    </tr>\n",
       "    <tr>\n",
       "      <th>2007</th>\n",
       "      <td>Give 5stars.</td>\n",
       "      <td>0</td>\n",
       "      <td>2</td>\n",
       "    </tr>\n",
       "    <tr>\n",
       "      <th>2008</th>\n",
       "      <td>any ladies can go for this, product very good.</td>\n",
       "      <td>3</td>\n",
       "      <td>9</td>\n",
       "    </tr>\n",
       "  </tbody>\n",
       "</table>\n",
       "<p>2009 rows × 3 columns</p>\n",
       "</div>"
      ],
      "text/plain": [
       "                                               sentence  sentiment_value  \\\n",
       "0     \\n  I would genuinely recommend this product i...                3   \n",
       "1     Your hair doesn’t look like that horrible parl...               -1   \n",
       "2     It comes with a plug point and an easy to use ...                1   \n",
       "3     Where the temperature of 2 is 200 degree and 1...                0   \n",
       "4                    You can adjust as per your liking.                0   \n",
       "...                                                 ...              ...   \n",
       "2004      I didn't notice hairfall too wch is very grt.                0   \n",
       "2005    I think this is a must in every woman's closet.                0   \n",
       "2006  Temperature control, easy to use, warmth good,...                6   \n",
       "2007                                       Give 5stars.                0   \n",
       "2008     any ladies can go for this, product very good.                3   \n",
       "\n",
       "      word_count  \n",
       "0             31  \n",
       "1             10  \n",
       "2             22  \n",
       "3             13  \n",
       "4              7  \n",
       "...          ...  \n",
       "2004           9  \n",
       "2005          10  \n",
       "2006          10  \n",
       "2007           2  \n",
       "2008           9  \n",
       "\n",
       "[2009 rows x 3 columns]"
      ]
     },
     "execution_count": 20,
     "metadata": {},
     "output_type": "execute_result"
    }
   ],
   "source": [
    "Philips_df"
   ]
  },
  {
   "cell_type": "code",
   "execution_count": 21,
   "metadata": {
    "ExecuteTime": {
     "end_time": "2021-02-25T12:06:52.284561Z",
     "start_time": "2021-02-25T12:06:52.264507Z"
    }
   },
   "outputs": [
    {
     "data": {
      "text/html": [
       "<div>\n",
       "<style scoped>\n",
       "    .dataframe tbody tr th:only-of-type {\n",
       "        vertical-align: middle;\n",
       "    }\n",
       "\n",
       "    .dataframe tbody tr th {\n",
       "        vertical-align: top;\n",
       "    }\n",
       "\n",
       "    .dataframe thead th {\n",
       "        text-align: right;\n",
       "    }\n",
       "</style>\n",
       "<table border=\"1\" class=\"dataframe\">\n",
       "  <thead>\n",
       "    <tr style=\"text-align: right;\">\n",
       "      <th></th>\n",
       "      <th>sentence</th>\n",
       "      <th>sentiment_value</th>\n",
       "      <th>word_count</th>\n",
       "    </tr>\n",
       "  </thead>\n",
       "  <tbody>\n",
       "    <tr>\n",
       "      <th>1796</th>\n",
       "      <td>😍💜😇👍\\n \\n  Good oh I mean gorgeous\\n \\n  Highl...</td>\n",
       "      <td>26</td>\n",
       "      <td>49</td>\n",
       "    </tr>\n",
       "    <tr>\n",
       "      <th>787</th>\n",
       "      <td>It’s actually really good this product is a sa...</td>\n",
       "      <td>29</td>\n",
       "      <td>91</td>\n",
       "    </tr>\n",
       "    <tr>\n",
       "      <th>1329</th>\n",
       "      <td>Just go for it it really too good value of mon...</td>\n",
       "      <td>30</td>\n",
       "      <td>70</td>\n",
       "    </tr>\n",
       "    <tr>\n",
       "      <th>1605</th>\n",
       "      <td>First of all delivery is very nice and product...</td>\n",
       "      <td>31</td>\n",
       "      <td>112</td>\n",
       "    </tr>\n",
       "    <tr>\n",
       "      <th>1678</th>\n",
       "      <td>Love it totally I have curly hair so it take m...</td>\n",
       "      <td>33</td>\n",
       "      <td>53</td>\n",
       "    </tr>\n",
       "    <tr>\n",
       "      <th>1776</th>\n",
       "      <td>Yeah good product but price so high\\n \\n  Mone...</td>\n",
       "      <td>42</td>\n",
       "      <td>79</td>\n",
       "    </tr>\n",
       "    <tr>\n",
       "      <th>1422</th>\n",
       "      <td>stopped working in less than 15 days\\n \\n  Awe...</td>\n",
       "      <td>46</td>\n",
       "      <td>65</td>\n",
       "    </tr>\n",
       "    <tr>\n",
       "      <th>1786</th>\n",
       "      <td>Easy to use👍\\n \\n  Nice\\n \\n  Really good\\n \\n...</td>\n",
       "      <td>50</td>\n",
       "      <td>80</td>\n",
       "    </tr>\n",
       "    <tr>\n",
       "      <th>1619</th>\n",
       "      <td>Perfect straightening in 5mins\\n \\n  Good but ...</td>\n",
       "      <td>58</td>\n",
       "      <td>130</td>\n",
       "    </tr>\n",
       "    <tr>\n",
       "      <th>1805</th>\n",
       "      <td>Osame\\n \\n  Amazing Product\\n \\n  Good product...</td>\n",
       "      <td>99</td>\n",
       "      <td>119</td>\n",
       "    </tr>\n",
       "  </tbody>\n",
       "</table>\n",
       "</div>"
      ],
      "text/plain": [
       "                                               sentence  sentiment_value  \\\n",
       "1796  😍💜😇👍\\n \\n  Good oh I mean gorgeous\\n \\n  Highl...               26   \n",
       "787   It’s actually really good this product is a sa...               29   \n",
       "1329  Just go for it it really too good value of mon...               30   \n",
       "1605  First of all delivery is very nice and product...               31   \n",
       "1678  Love it totally I have curly hair so it take m...               33   \n",
       "1776  Yeah good product but price so high\\n \\n  Mone...               42   \n",
       "1422  stopped working in less than 15 days\\n \\n  Awe...               46   \n",
       "1786  Easy to use👍\\n \\n  Nice\\n \\n  Really good\\n \\n...               50   \n",
       "1619  Perfect straightening in 5mins\\n \\n  Good but ...               58   \n",
       "1805  Osame\\n \\n  Amazing Product\\n \\n  Good product...               99   \n",
       "\n",
       "      word_count  \n",
       "1796          49  \n",
       "787           91  \n",
       "1329          70  \n",
       "1605         112  \n",
       "1678          53  \n",
       "1776          79  \n",
       "1422          65  \n",
       "1786          80  \n",
       "1619         130  \n",
       "1805         119  "
      ]
     },
     "execution_count": 21,
     "metadata": {},
     "output_type": "execute_result"
    }
   ],
   "source": [
    "Philips_df.sort_values(by='sentiment_value').tail(10) "
   ]
  },
  {
   "cell_type": "code",
   "execution_count": 22,
   "metadata": {
    "ExecuteTime": {
     "end_time": "2021-02-25T12:07:23.785637Z",
     "start_time": "2021-02-25T12:07:23.771597Z"
    }
   },
   "outputs": [
    {
     "data": {
      "text/plain": [
       "count    2009.000000\n",
       "mean        2.512195\n",
       "std         5.123376\n",
       "min       -10.000000\n",
       "25%         0.000000\n",
       "50%         1.000000\n",
       "75%         3.000000\n",
       "max        99.000000\n",
       "Name: sentiment_value, dtype: float64"
      ]
     },
     "execution_count": 22,
     "metadata": {},
     "output_type": "execute_result"
    }
   ],
   "source": [
    "Philips_df['sentiment_value'].describe() "
   ]
  },
  {
   "cell_type": "code",
   "execution_count": 23,
   "metadata": {
    "ExecuteTime": {
     "end_time": "2021-02-25T12:07:50.582408Z",
     "start_time": "2021-02-25T12:07:50.560851Z"
    }
   },
   "outputs": [
    {
     "data": {
      "text/html": [
       "<div>\n",
       "<style scoped>\n",
       "    .dataframe tbody tr th:only-of-type {\n",
       "        vertical-align: middle;\n",
       "    }\n",
       "\n",
       "    .dataframe tbody tr th {\n",
       "        vertical-align: top;\n",
       "    }\n",
       "\n",
       "    .dataframe thead th {\n",
       "        text-align: right;\n",
       "    }\n",
       "</style>\n",
       "<table border=\"1\" class=\"dataframe\">\n",
       "  <thead>\n",
       "    <tr style=\"text-align: right;\">\n",
       "      <th></th>\n",
       "      <th>sentence</th>\n",
       "      <th>sentiment_value</th>\n",
       "      <th>word_count</th>\n",
       "    </tr>\n",
       "  </thead>\n",
       "  <tbody>\n",
       "    <tr>\n",
       "      <th>1</th>\n",
       "      <td>Your hair doesn’t look like that horrible parl...</td>\n",
       "      <td>-1</td>\n",
       "      <td>10</td>\n",
       "    </tr>\n",
       "    <tr>\n",
       "      <th>3</th>\n",
       "      <td>Where the temperature of 2 is 200 degree and 1...</td>\n",
       "      <td>0</td>\n",
       "      <td>13</td>\n",
       "    </tr>\n",
       "    <tr>\n",
       "      <th>4</th>\n",
       "      <td>You can adjust as per your liking.</td>\n",
       "      <td>0</td>\n",
       "      <td>7</td>\n",
       "    </tr>\n",
       "    <tr>\n",
       "      <th>6</th>\n",
       "      <td>It comes with keratin protection which ensures...</td>\n",
       "      <td>-2</td>\n",
       "      <td>16</td>\n",
       "    </tr>\n",
       "    <tr>\n",
       "      <th>9</th>\n",
       "      <td>It comes with an LeD light which shines to let...</td>\n",
       "      <td>0</td>\n",
       "      <td>21</td>\n",
       "    </tr>\n",
       "    <tr>\n",
       "      <th>...</th>\n",
       "      <td>...</td>\n",
       "      <td>...</td>\n",
       "      <td>...</td>\n",
       "    </tr>\n",
       "    <tr>\n",
       "      <th>1990</th>\n",
       "      <td>There is problem in cord.</td>\n",
       "      <td>-2</td>\n",
       "      <td>5</td>\n",
       "    </tr>\n",
       "    <tr>\n",
       "      <th>1998</th>\n",
       "      <td>Your hair doesn’t look like that horrible parl...</td>\n",
       "      <td>-1</td>\n",
       "      <td>10</td>\n",
       "    </tr>\n",
       "    <tr>\n",
       "      <th>2004</th>\n",
       "      <td>I didn't notice hairfall too wch is very grt.</td>\n",
       "      <td>0</td>\n",
       "      <td>9</td>\n",
       "    </tr>\n",
       "    <tr>\n",
       "      <th>2005</th>\n",
       "      <td>I think this is a must in every woman's closet.</td>\n",
       "      <td>0</td>\n",
       "      <td>10</td>\n",
       "    </tr>\n",
       "    <tr>\n",
       "      <th>2007</th>\n",
       "      <td>Give 5stars.</td>\n",
       "      <td>0</td>\n",
       "      <td>2</td>\n",
       "    </tr>\n",
       "  </tbody>\n",
       "</table>\n",
       "<p>794 rows × 3 columns</p>\n",
       "</div>"
      ],
      "text/plain": [
       "                                               sentence  sentiment_value  \\\n",
       "1     Your hair doesn’t look like that horrible parl...               -1   \n",
       "3     Where the temperature of 2 is 200 degree and 1...                0   \n",
       "4                    You can adjust as per your liking.                0   \n",
       "6     It comes with keratin protection which ensures...               -2   \n",
       "9     It comes with an LeD light which shines to let...                0   \n",
       "...                                                 ...              ...   \n",
       "1990                          There is problem in cord.               -2   \n",
       "1998  Your hair doesn’t look like that horrible parl...               -1   \n",
       "2004      I didn't notice hairfall too wch is very grt.                0   \n",
       "2005    I think this is a must in every woman's closet.                0   \n",
       "2007                                       Give 5stars.                0   \n",
       "\n",
       "      word_count  \n",
       "1             10  \n",
       "3             13  \n",
       "4              7  \n",
       "6             16  \n",
       "9             21  \n",
       "...          ...  \n",
       "1990           5  \n",
       "1998          10  \n",
       "2004           9  \n",
       "2005          10  \n",
       "2007           2  \n",
       "\n",
       "[794 rows x 3 columns]"
      ]
     },
     "execution_count": 23,
     "metadata": {},
     "output_type": "execute_result"
    }
   ],
   "source": [
    "Philips_df[Philips_df['sentiment_value']<=0] "
   ]
  },
  {
   "cell_type": "code",
   "execution_count": 24,
   "metadata": {
    "ExecuteTime": {
     "end_time": "2021-02-25T12:08:21.332449Z",
     "start_time": "2021-02-25T12:08:21.307886Z"
    }
   },
   "outputs": [
    {
     "data": {
      "text/html": [
       "<div>\n",
       "<style scoped>\n",
       "    .dataframe tbody tr th:only-of-type {\n",
       "        vertical-align: middle;\n",
       "    }\n",
       "\n",
       "    .dataframe tbody tr th {\n",
       "        vertical-align: top;\n",
       "    }\n",
       "\n",
       "    .dataframe thead th {\n",
       "        text-align: right;\n",
       "    }\n",
       "</style>\n",
       "<table border=\"1\" class=\"dataframe\">\n",
       "  <thead>\n",
       "    <tr style=\"text-align: right;\">\n",
       "      <th></th>\n",
       "      <th>sentence</th>\n",
       "      <th>sentiment_value</th>\n",
       "      <th>word_count</th>\n",
       "    </tr>\n",
       "  </thead>\n",
       "  <tbody>\n",
       "    <tr>\n",
       "      <th>124</th>\n",
       "      <td>No hair burn smell..Easy to use.. No help requ...</td>\n",
       "      <td>11</td>\n",
       "      <td>36</td>\n",
       "    </tr>\n",
       "    <tr>\n",
       "      <th>225</th>\n",
       "      <td>It is a wonderful product, comes with a broad ...</td>\n",
       "      <td>11</td>\n",
       "      <td>68</td>\n",
       "    </tr>\n",
       "    <tr>\n",
       "      <th>231</th>\n",
       "      <td>My hair texture is wavey and thin and long hai...</td>\n",
       "      <td>16</td>\n",
       "      <td>109</td>\n",
       "    </tr>\n",
       "    <tr>\n",
       "      <th>287</th>\n",
       "      <td>If you like straight hair without the fuss of ...</td>\n",
       "      <td>14</td>\n",
       "      <td>58</td>\n",
       "    </tr>\n",
       "    <tr>\n",
       "      <th>346</th>\n",
       "      <td>U will ready with your straighten hair... A .m...</td>\n",
       "      <td>16</td>\n",
       "      <td>94</td>\n",
       "    </tr>\n",
       "    <tr>\n",
       "      <th>...</th>\n",
       "      <td>...</td>\n",
       "      <td>...</td>\n",
       "      <td>...</td>\n",
       "    </tr>\n",
       "    <tr>\n",
       "      <th>1886</th>\n",
       "      <td>If u need to get ready like asap this is the b...</td>\n",
       "      <td>10</td>\n",
       "      <td>67</td>\n",
       "    </tr>\n",
       "    <tr>\n",
       "      <th>1899</th>\n",
       "      <td>My wife just loved the gift...\\n \\n  Really it...</td>\n",
       "      <td>10</td>\n",
       "      <td>40</td>\n",
       "    </tr>\n",
       "    <tr>\n",
       "      <th>1958</th>\n",
       "      <td>Must order and amazing for this price range\\n ...</td>\n",
       "      <td>11</td>\n",
       "      <td>63</td>\n",
       "    </tr>\n",
       "    <tr>\n",
       "      <th>1966</th>\n",
       "      <td>I wish to return it back\\n \\n  So this gives t...</td>\n",
       "      <td>11</td>\n",
       "      <td>91</td>\n",
       "    </tr>\n",
       "    <tr>\n",
       "      <th>1986</th>\n",
       "      <td>Lovely product and too much effective results ...</td>\n",
       "      <td>16</td>\n",
       "      <td>19</td>\n",
       "    </tr>\n",
       "  </tbody>\n",
       "</table>\n",
       "<p>119 rows × 3 columns</p>\n",
       "</div>"
      ],
      "text/plain": [
       "                                               sentence  sentiment_value  \\\n",
       "124   No hair burn smell..Easy to use.. No help requ...               11   \n",
       "225   It is a wonderful product, comes with a broad ...               11   \n",
       "231   My hair texture is wavey and thin and long hai...               16   \n",
       "287   If you like straight hair without the fuss of ...               14   \n",
       "346   U will ready with your straighten hair... A .m...               16   \n",
       "...                                                 ...              ...   \n",
       "1886  If u need to get ready like asap this is the b...               10   \n",
       "1899  My wife just loved the gift...\\n \\n  Really it...               10   \n",
       "1958  Must order and amazing for this price range\\n ...               11   \n",
       "1966  I wish to return it back\\n \\n  So this gives t...               11   \n",
       "1986  Lovely product and too much effective results ...               16   \n",
       "\n",
       "      word_count  \n",
       "124           36  \n",
       "225           68  \n",
       "231          109  \n",
       "287           58  \n",
       "346           94  \n",
       "...          ...  \n",
       "1886          67  \n",
       "1899          40  \n",
       "1958          63  \n",
       "1966          91  \n",
       "1986          19  \n",
       "\n",
       "[119 rows x 3 columns]"
      ]
     },
     "execution_count": 24,
     "metadata": {},
     "output_type": "execute_result"
    }
   ],
   "source": [
    "Philips_df[Philips_df['sentiment_value']>=10] "
   ]
  },
  {
   "cell_type": "code",
   "execution_count": 26,
   "metadata": {
    "ExecuteTime": {
     "end_time": "2021-02-25T12:09:06.250755Z",
     "start_time": "2021-02-25T12:09:06.230699Z"
    }
   },
   "outputs": [
    {
     "data": {
      "text/html": [
       "<div>\n",
       "<style scoped>\n",
       "    .dataframe tbody tr th:only-of-type {\n",
       "        vertical-align: middle;\n",
       "    }\n",
       "\n",
       "    .dataframe tbody tr th {\n",
       "        vertical-align: top;\n",
       "    }\n",
       "\n",
       "    .dataframe thead th {\n",
       "        text-align: right;\n",
       "    }\n",
       "</style>\n",
       "<table border=\"1\" class=\"dataframe\">\n",
       "  <thead>\n",
       "    <tr style=\"text-align: right;\">\n",
       "      <th></th>\n",
       "      <th>sentence</th>\n",
       "      <th>sentiment_value</th>\n",
       "      <th>word_count</th>\n",
       "    </tr>\n",
       "  </thead>\n",
       "  <tbody>\n",
       "    <tr>\n",
       "      <th>1619</th>\n",
       "      <td>Perfect straightening in 5mins\\n \\n  Good but ...</td>\n",
       "      <td>58</td>\n",
       "      <td>130</td>\n",
       "    </tr>\n",
       "    <tr>\n",
       "      <th>1786</th>\n",
       "      <td>Easy to use👍\\n \\n  Nice\\n \\n  Really good\\n \\n...</td>\n",
       "      <td>50</td>\n",
       "      <td>80</td>\n",
       "    </tr>\n",
       "    <tr>\n",
       "      <th>1805</th>\n",
       "      <td>Osame\\n \\n  Amazing Product\\n \\n  Good product...</td>\n",
       "      <td>99</td>\n",
       "      <td>119</td>\n",
       "    </tr>\n",
       "  </tbody>\n",
       "</table>\n",
       "</div>"
      ],
      "text/plain": [
       "                                               sentence  sentiment_value  \\\n",
       "1619  Perfect straightening in 5mins\\n \\n  Good but ...               58   \n",
       "1786  Easy to use👍\\n \\n  Nice\\n \\n  Really good\\n \\n...               50   \n",
       "1805  Osame\\n \\n  Amazing Product\\n \\n  Good product...               99   \n",
       "\n",
       "      word_count  \n",
       "1619         130  \n",
       "1786          80  \n",
       "1805         119  "
      ]
     },
     "execution_count": 26,
     "metadata": {},
     "output_type": "execute_result"
    }
   ],
   "source": [
    "Philips_df[Philips_df['sentiment_value']>=50] "
   ]
  },
  {
   "cell_type": "code",
   "execution_count": 27,
   "metadata": {
    "ExecuteTime": {
     "end_time": "2021-02-25T12:09:44.144403Z",
     "start_time": "2021-02-25T12:09:44.138385Z"
    }
   },
   "outputs": [],
   "source": [
    "Philips_df['index']=range(0,len(Philips_df)) "
   ]
  },
  {
   "cell_type": "code",
   "execution_count": 33,
   "metadata": {
    "ExecuteTime": {
     "end_time": "2021-02-25T12:11:24.824804Z",
     "start_time": "2021-02-25T12:11:24.435236Z"
    }
   },
   "outputs": [
    {
     "data": {
      "text/plain": [
       "<matplotlib.axes._subplots.AxesSubplot at 0x209a9981a30>"
      ]
     },
     "execution_count": 33,
     "metadata": {},
     "output_type": "execute_result"
    },
    {
     "data": {
      "image/png": "[encoded data removed]",
      "text/plain": [
       "<Figure size 432x288 with 1 Axes>"
      ]
     },
     "metadata": {
      "needs_background": "light"
     },
     "output_type": "display_data"
    }
   ],
   "source": [
    "import seaborn as sns\n",
    "import matplotlib.pyplot as plt\n",
    "sns.set_color_codes(\"dark\")\n",
    "sns.distplot(Philips_df['sentiment_value'],color='b')"
   ]
  },
  {
   "cell_type": "code",
   "execution_count": 34,
   "metadata": {
    "ExecuteTime": {
     "end_time": "2021-02-25T12:12:04.302066Z",
     "start_time": "2021-02-25T12:12:03.350534Z"
    }
   },
   "outputs": [
    {
     "data": {
      "text/plain": [
       "<matplotlib.axes._subplots.AxesSubplot at 0x209a9a4a370>"
      ]
     },
     "execution_count": 34,
     "metadata": {},
     "output_type": "execute_result"
    },
    {
     "data": {
      "image/png": "[encoded data removed]",
      "text/plain": [
       "<Figure size 1080x720 with 1 Axes>"
      ]
     },
     "metadata": {
      "needs_background": "light"
     },
     "output_type": "display_data"
    }
   ],
   "source": [
    "plt.figure(figsize=(15, 10))\n",
    "sns.lineplot(y='sentiment_value',x='index',data=Philips_df,color='b') "
   ]
  },
  {
   "cell_type": "code",
   "execution_count": 36,
   "metadata": {
    "ExecuteTime": {
     "end_time": "2021-02-25T12:13:10.983022Z",
     "start_time": "2021-02-25T12:13:10.636098Z"
    }
   },
   "outputs": [
    {
     "data": {
      "text/plain": [
       "<matplotlib.axes._subplots.AxesSubplot at 0x209a9e0d640>"
      ]
     },
     "execution_count": 36,
     "metadata": {},
     "output_type": "execute_result"
    },
    {
     "data": {
      "image/png": "[encoded data removed]",
      "text/plain": [
       "<Figure size 576x576 with 1 Axes>"
      ]
     },
     "metadata": {
      "needs_background": "light"
     },
     "output_type": "display_data"
    }
   ],
   "source": [
    "Philips_df.plot.scatter(x='word_count', y='sentiment_value', figsize=(8,8), title='Sentence sentiment value to sentence word count',color='g')"
   ]
  },
  {
   "cell_type": "code",
   "execution_count": null,
   "metadata": {},
   "outputs": [],
   "source": []
  }
 ],
 "metadata": {
  "kernelspec": {
   "display_name": "Python 3",
   "language": "python",
   "name": "python3"
  },
  "language_info": {
   "codemirror_mode": {
    "name": "ipython",
    "version": 3
   },
   "file_extension": ".py",
   "mimetype": "text/x-python",
   "name": "python",
   "nbconvert_exporter": "python",
   "pygments_lexer": "ipython3",
   "version": "3.8.3"
  },
  "varInspector": {
   "cols": {
    "lenName": 16,
    "lenType": 16,
    "lenVar": 40
   },
   "kernels_config": {
    "python": {
     "delete_cmd_postfix": "",
     "delete_cmd_prefix": "del ",
     "library": "var_list.py",
     "varRefreshCmd": "print(var_dic_list())"
    },
    "r": {
     "delete_cmd_postfix": ") ",
     "delete_cmd_prefix": "rm(",
     "library": "var_list.r",
     "varRefreshCmd": "cat(var_dic_list()) "
    }
   },
   "types_to_exclude": [
    "module",
    "function",
    "builtin_function_or_method",
    "instance",
    "_Feature"
   ],
   "window_display": false
  }
 },
 "nbformat": 4,
 "nbformat_minor": 4
}
