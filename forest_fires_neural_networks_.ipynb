{
  "nbformat": 4,
  "nbformat_minor": 0,
  "metadata": {
    "colab": {
      "name": "forest fires neural networks .ipynb",
      "provenance": [],
      "collapsed_sections": []
    },
    "kernelspec": {
      "name": "python3",
      "display_name": "Python 3"
    },
    "language_info": {
      "name": "python"
    }
  },
  "cells": [
    {
      "cell_type": "code",
      "metadata": {
        "colab": {
          "base_uri": "https://localhost:8080/"
        },
        "id": "-n5yMHt0WKEi",
        "outputId": "5a8dc0ea-f056-4f06-dfbf-fb7495dca025"
      },
      "source": [
        "! pip install scikit-learn\n",
        "import sklearn"
      ],
      "execution_count": 2,
      "outputs": [
        {
          "output_type": "stream",
          "text": [
            "Requirement already satisfied: scikit-learn in /usr/local/lib/python3.7/dist-packages (0.22.2.post1)\n",
            "Requirement already satisfied: numpy>=1.11.0 in /usr/local/lib/python3.7/dist-packages (from scikit-learn) (1.19.5)\n",
            "Requirement already satisfied: joblib>=0.11 in /usr/local/lib/python3.7/dist-packages (from scikit-learn) (1.0.1)\n",
            "Requirement already satisfied: scipy>=0.17.0 in /usr/local/lib/python3.7/dist-packages (from scikit-learn) (1.4.1)\n"
          ],
          "name": "stdout"
        }
      ]
    },
    {
      "cell_type": "code",
      "metadata": {
        "id": "f_u1lJqbQshw"
      },
      "source": [
        "# import the library package \n",
        "import pandas \n",
        "import numpy \n",
        "\n",
        "from sklearn.feature_selection import RFE \n",
        "from sklearn.ensemble import ExtraTreesRegressor,RandomForestRegressor \n",
        "\n",
        "import matplotlib.pyplot as plt \n",
        "\n",
        "from sklearn.metrics import mean_absolute_error,explained_variance_score\n",
        "from sklearn.preprocessing import MinMaxScaler\n",
        "from sklearn.linear_model import LinearRegression \n",
        "from sklearn.model_selection import cross_val_score\n",
        "\n",
        "# create your MLP in keras \n",
        "from keras.models import Sequential\n",
        "from keras.layers import Dense\n",
        "from keras.layers import Dropout\n",
        "from keras.wrappers.scikit_learn import KerasRegressor \n",
        "from sklearn.model_selection import KFold\n",
        "from keras.optimizers import Adam\n",
        "\n",
        "# fix random seed for reproducibility \n",
        "seed = 7\n",
        "numpy.random.seed(seed)\n"
      ],
      "execution_count": 55,
      "outputs": []
    },
    {
      "cell_type": "code",
      "metadata": {
        "id": "LCzCebt1SuHD"
      },
      "source": [
        "# import the dataset\n",
        "forestfires = pd.read_csv(\"forestfires.csv\")\n",
        "\n",
        "# encode the dataset\n",
        "forestfires.month.replace(('jan','feb','mar','apr','may','jun','jul','aug','sep','oct','nov','dec'),(1,2,3,4,5,6,7,8,9,10,11,12), inplace=True)\n",
        "forestfires.day.replace(('mon','tue','wed','thu','fri','sat','sun'),(1,2,3,4,5,6,7), inplace=True)"
      ],
      "execution_count": 56,
      "outputs": []
    },
    {
      "cell_type": "code",
      "metadata": {
        "colab": {
          "base_uri": "https://localhost:8080/"
        },
        "id": "cFFjbl6ZXd_Z",
        "outputId": "75cdacda-863c-4b7a-e22c-c841b1c44240"
      },
      "source": [
        "# print the dataset\n",
        "print(\"Head:\",forestfires.head)"
      ],
      "execution_count": 57,
      "outputs": [
        {
          "output_type": "stream",
          "text": [
            "Head: <bound method NDFrame.head of      month  day  FFMC    DMC  ...  monthnov  monthoct  monthsep  size_category\n",
            "0        3    5  86.2   26.2  ...         0         0         0          small\n",
            "1       10    2  90.6   35.4  ...         0         1         0          small\n",
            "2       10    6  90.6   43.7  ...         0         1         0          small\n",
            "3        3    5  91.7   33.3  ...         0         0         0          small\n",
            "4        3    7  89.3   51.3  ...         0         0         0          small\n",
            "..     ...  ...   ...    ...  ...       ...       ...       ...            ...\n",
            "512      8    7  81.6   56.7  ...         0         0         0          large\n",
            "513      8    7  81.6   56.7  ...         0         0         0          large\n",
            "514      8    7  81.6   56.7  ...         0         0         0          large\n",
            "515      8    6  94.4  146.0  ...         0         0         0          small\n",
            "516     11    2  79.5    3.0  ...         1         0         0          small\n",
            "\n",
            "[517 rows x 31 columns]>\n"
          ],
          "name": "stdout"
        }
      ]
    },
    {
      "cell_type": "code",
      "metadata": {
        "colab": {
          "base_uri": "https://localhost:8080/",
          "height": 317
        },
        "id": "CJH6fhArZl42",
        "outputId": "7bbe0455-d393-4576-9799-4f615db95f75"
      },
      "source": [
        "forestfires.describe()"
      ],
      "execution_count": 58,
      "outputs": [
        {
          "output_type": "execute_result",
          "data": {
            "text/html": [
              "<div>\n",
              "<style scoped>\n",
              "    .dataframe tbody tr th:only-of-type {\n",
              "        vertical-align: middle;\n",
              "    }\n",
              "\n",
              "    .dataframe tbody tr th {\n",
              "        vertical-align: top;\n",
              "    }\n",
              "\n",
              "    .dataframe thead th {\n",
              "        text-align: right;\n",
              "    }\n",
              "</style>\n",
              "<table border=\"1\" class=\"dataframe\">\n",
              "  <thead>\n",
              "    <tr style=\"text-align: right;\">\n",
              "      <th></th>\n",
              "      <th>month</th>\n",
              "      <th>day</th>\n",
              "      <th>FFMC</th>\n",
              "      <th>DMC</th>\n",
              "      <th>DC</th>\n",
              "      <th>ISI</th>\n",
              "      <th>temp</th>\n",
              "      <th>RH</th>\n",
              "      <th>wind</th>\n",
              "      <th>rain</th>\n",
              "      <th>area</th>\n",
              "      <th>dayfri</th>\n",
              "      <th>daymon</th>\n",
              "      <th>daysat</th>\n",
              "      <th>daysun</th>\n",
              "      <th>daythu</th>\n",
              "      <th>daytue</th>\n",
              "      <th>daywed</th>\n",
              "      <th>monthapr</th>\n",
              "      <th>monthaug</th>\n",
              "      <th>monthdec</th>\n",
              "      <th>monthfeb</th>\n",
              "      <th>monthjan</th>\n",
              "      <th>monthjul</th>\n",
              "      <th>monthjun</th>\n",
              "      <th>monthmar</th>\n",
              "      <th>monthmay</th>\n",
              "      <th>monthnov</th>\n",
              "      <th>monthoct</th>\n",
              "      <th>monthsep</th>\n",
              "    </tr>\n",
              "  </thead>\n",
              "  <tbody>\n",
              "    <tr>\n",
              "      <th>count</th>\n",
              "      <td>517.000000</td>\n",
              "      <td>517.000000</td>\n",
              "      <td>517.000000</td>\n",
              "      <td>517.000000</td>\n",
              "      <td>517.000000</td>\n",
              "      <td>517.000000</td>\n",
              "      <td>517.000000</td>\n",
              "      <td>517.000000</td>\n",
              "      <td>517.000000</td>\n",
              "      <td>517.000000</td>\n",
              "      <td>517.000000</td>\n",
              "      <td>517.000000</td>\n",
              "      <td>517.000000</td>\n",
              "      <td>517.000000</td>\n",
              "      <td>517.000000</td>\n",
              "      <td>517.000000</td>\n",
              "      <td>517.000000</td>\n",
              "      <td>517.000000</td>\n",
              "      <td>517.000000</td>\n",
              "      <td>517.000000</td>\n",
              "      <td>517.000000</td>\n",
              "      <td>517.000000</td>\n",
              "      <td>517.000000</td>\n",
              "      <td>517.000000</td>\n",
              "      <td>517.000000</td>\n",
              "      <td>517.000000</td>\n",
              "      <td>517.000000</td>\n",
              "      <td>517.000000</td>\n",
              "      <td>517.000000</td>\n",
              "      <td>517.000000</td>\n",
              "    </tr>\n",
              "    <tr>\n",
              "      <th>mean</th>\n",
              "      <td>7.475822</td>\n",
              "      <td>4.259188</td>\n",
              "      <td>90.644681</td>\n",
              "      <td>110.872340</td>\n",
              "      <td>547.940039</td>\n",
              "      <td>9.021663</td>\n",
              "      <td>18.889168</td>\n",
              "      <td>44.288201</td>\n",
              "      <td>4.017602</td>\n",
              "      <td>0.021663</td>\n",
              "      <td>12.847292</td>\n",
              "      <td>0.164410</td>\n",
              "      <td>0.143133</td>\n",
              "      <td>0.162476</td>\n",
              "      <td>0.183752</td>\n",
              "      <td>0.117988</td>\n",
              "      <td>0.123791</td>\n",
              "      <td>0.104449</td>\n",
              "      <td>0.017408</td>\n",
              "      <td>0.355899</td>\n",
              "      <td>0.017408</td>\n",
              "      <td>0.038685</td>\n",
              "      <td>0.003868</td>\n",
              "      <td>0.061896</td>\n",
              "      <td>0.032882</td>\n",
              "      <td>0.104449</td>\n",
              "      <td>0.003868</td>\n",
              "      <td>0.001934</td>\n",
              "      <td>0.029014</td>\n",
              "      <td>0.332689</td>\n",
              "    </tr>\n",
              "    <tr>\n",
              "      <th>std</th>\n",
              "      <td>2.275990</td>\n",
              "      <td>2.072929</td>\n",
              "      <td>5.520111</td>\n",
              "      <td>64.046482</td>\n",
              "      <td>248.066192</td>\n",
              "      <td>4.559477</td>\n",
              "      <td>5.806625</td>\n",
              "      <td>16.317469</td>\n",
              "      <td>1.791653</td>\n",
              "      <td>0.295959</td>\n",
              "      <td>63.655818</td>\n",
              "      <td>0.371006</td>\n",
              "      <td>0.350548</td>\n",
              "      <td>0.369244</td>\n",
              "      <td>0.387657</td>\n",
              "      <td>0.322907</td>\n",
              "      <td>0.329662</td>\n",
              "      <td>0.306138</td>\n",
              "      <td>0.130913</td>\n",
              "      <td>0.479249</td>\n",
              "      <td>0.130913</td>\n",
              "      <td>0.193029</td>\n",
              "      <td>0.062137</td>\n",
              "      <td>0.241199</td>\n",
              "      <td>0.178500</td>\n",
              "      <td>0.306138</td>\n",
              "      <td>0.062137</td>\n",
              "      <td>0.043980</td>\n",
              "      <td>0.168007</td>\n",
              "      <td>0.471632</td>\n",
              "    </tr>\n",
              "    <tr>\n",
              "      <th>min</th>\n",
              "      <td>1.000000</td>\n",
              "      <td>1.000000</td>\n",
              "      <td>18.700000</td>\n",
              "      <td>1.100000</td>\n",
              "      <td>7.900000</td>\n",
              "      <td>0.000000</td>\n",
              "      <td>2.200000</td>\n",
              "      <td>15.000000</td>\n",
              "      <td>0.400000</td>\n",
              "      <td>0.000000</td>\n",
              "      <td>0.000000</td>\n",
              "      <td>0.000000</td>\n",
              "      <td>0.000000</td>\n",
              "      <td>0.000000</td>\n",
              "      <td>0.000000</td>\n",
              "      <td>0.000000</td>\n",
              "      <td>0.000000</td>\n",
              "      <td>0.000000</td>\n",
              "      <td>0.000000</td>\n",
              "      <td>0.000000</td>\n",
              "      <td>0.000000</td>\n",
              "      <td>0.000000</td>\n",
              "      <td>0.000000</td>\n",
              "      <td>0.000000</td>\n",
              "      <td>0.000000</td>\n",
              "      <td>0.000000</td>\n",
              "      <td>0.000000</td>\n",
              "      <td>0.000000</td>\n",
              "      <td>0.000000</td>\n",
              "      <td>0.000000</td>\n",
              "    </tr>\n",
              "    <tr>\n",
              "      <th>25%</th>\n",
              "      <td>7.000000</td>\n",
              "      <td>2.000000</td>\n",
              "      <td>90.200000</td>\n",
              "      <td>68.600000</td>\n",
              "      <td>437.700000</td>\n",
              "      <td>6.500000</td>\n",
              "      <td>15.500000</td>\n",
              "      <td>33.000000</td>\n",
              "      <td>2.700000</td>\n",
              "      <td>0.000000</td>\n",
              "      <td>0.000000</td>\n",
              "      <td>0.000000</td>\n",
              "      <td>0.000000</td>\n",
              "      <td>0.000000</td>\n",
              "      <td>0.000000</td>\n",
              "      <td>0.000000</td>\n",
              "      <td>0.000000</td>\n",
              "      <td>0.000000</td>\n",
              "      <td>0.000000</td>\n",
              "      <td>0.000000</td>\n",
              "      <td>0.000000</td>\n",
              "      <td>0.000000</td>\n",
              "      <td>0.000000</td>\n",
              "      <td>0.000000</td>\n",
              "      <td>0.000000</td>\n",
              "      <td>0.000000</td>\n",
              "      <td>0.000000</td>\n",
              "      <td>0.000000</td>\n",
              "      <td>0.000000</td>\n",
              "      <td>0.000000</td>\n",
              "    </tr>\n",
              "    <tr>\n",
              "      <th>50%</th>\n",
              "      <td>8.000000</td>\n",
              "      <td>5.000000</td>\n",
              "      <td>91.600000</td>\n",
              "      <td>108.300000</td>\n",
              "      <td>664.200000</td>\n",
              "      <td>8.400000</td>\n",
              "      <td>19.300000</td>\n",
              "      <td>42.000000</td>\n",
              "      <td>4.000000</td>\n",
              "      <td>0.000000</td>\n",
              "      <td>0.520000</td>\n",
              "      <td>0.000000</td>\n",
              "      <td>0.000000</td>\n",
              "      <td>0.000000</td>\n",
              "      <td>0.000000</td>\n",
              "      <td>0.000000</td>\n",
              "      <td>0.000000</td>\n",
              "      <td>0.000000</td>\n",
              "      <td>0.000000</td>\n",
              "      <td>0.000000</td>\n",
              "      <td>0.000000</td>\n",
              "      <td>0.000000</td>\n",
              "      <td>0.000000</td>\n",
              "      <td>0.000000</td>\n",
              "      <td>0.000000</td>\n",
              "      <td>0.000000</td>\n",
              "      <td>0.000000</td>\n",
              "      <td>0.000000</td>\n",
              "      <td>0.000000</td>\n",
              "      <td>0.000000</td>\n",
              "    </tr>\n",
              "    <tr>\n",
              "      <th>75%</th>\n",
              "      <td>9.000000</td>\n",
              "      <td>6.000000</td>\n",
              "      <td>92.900000</td>\n",
              "      <td>142.400000</td>\n",
              "      <td>713.900000</td>\n",
              "      <td>10.800000</td>\n",
              "      <td>22.800000</td>\n",
              "      <td>53.000000</td>\n",
              "      <td>4.900000</td>\n",
              "      <td>0.000000</td>\n",
              "      <td>6.570000</td>\n",
              "      <td>0.000000</td>\n",
              "      <td>0.000000</td>\n",
              "      <td>0.000000</td>\n",
              "      <td>0.000000</td>\n",
              "      <td>0.000000</td>\n",
              "      <td>0.000000</td>\n",
              "      <td>0.000000</td>\n",
              "      <td>0.000000</td>\n",
              "      <td>1.000000</td>\n",
              "      <td>0.000000</td>\n",
              "      <td>0.000000</td>\n",
              "      <td>0.000000</td>\n",
              "      <td>0.000000</td>\n",
              "      <td>0.000000</td>\n",
              "      <td>0.000000</td>\n",
              "      <td>0.000000</td>\n",
              "      <td>0.000000</td>\n",
              "      <td>0.000000</td>\n",
              "      <td>1.000000</td>\n",
              "    </tr>\n",
              "    <tr>\n",
              "      <th>max</th>\n",
              "      <td>12.000000</td>\n",
              "      <td>7.000000</td>\n",
              "      <td>96.200000</td>\n",
              "      <td>291.300000</td>\n",
              "      <td>860.600000</td>\n",
              "      <td>56.100000</td>\n",
              "      <td>33.300000</td>\n",
              "      <td>100.000000</td>\n",
              "      <td>9.400000</td>\n",
              "      <td>6.400000</td>\n",
              "      <td>1090.840000</td>\n",
              "      <td>1.000000</td>\n",
              "      <td>1.000000</td>\n",
              "      <td>1.000000</td>\n",
              "      <td>1.000000</td>\n",
              "      <td>1.000000</td>\n",
              "      <td>1.000000</td>\n",
              "      <td>1.000000</td>\n",
              "      <td>1.000000</td>\n",
              "      <td>1.000000</td>\n",
              "      <td>1.000000</td>\n",
              "      <td>1.000000</td>\n",
              "      <td>1.000000</td>\n",
              "      <td>1.000000</td>\n",
              "      <td>1.000000</td>\n",
              "      <td>1.000000</td>\n",
              "      <td>1.000000</td>\n",
              "      <td>1.000000</td>\n",
              "      <td>1.000000</td>\n",
              "      <td>1.000000</td>\n",
              "    </tr>\n",
              "  </tbody>\n",
              "</table>\n",
              "</div>"
            ],
            "text/plain": [
              "            month         day        FFMC  ...    monthnov    monthoct    monthsep\n",
              "count  517.000000  517.000000  517.000000  ...  517.000000  517.000000  517.000000\n",
              "mean     7.475822    4.259188   90.644681  ...    0.001934    0.029014    0.332689\n",
              "std      2.275990    2.072929    5.520111  ...    0.043980    0.168007    0.471632\n",
              "min      1.000000    1.000000   18.700000  ...    0.000000    0.000000    0.000000\n",
              "25%      7.000000    2.000000   90.200000  ...    0.000000    0.000000    0.000000\n",
              "50%      8.000000    5.000000   91.600000  ...    0.000000    0.000000    0.000000\n",
              "75%      9.000000    6.000000   92.900000  ...    0.000000    0.000000    1.000000\n",
              "max     12.000000    7.000000   96.200000  ...    1.000000    1.000000    1.000000\n",
              "\n",
              "[8 rows x 30 columns]"
            ]
          },
          "metadata": {
            "tags": []
          },
          "execution_count": 58
        }
      ]
    },
    {
      "cell_type": "code",
      "metadata": {
        "id": "GbKkDNlYZpuL",
        "colab": {
          "base_uri": "https://localhost:8080/"
        },
        "outputId": "765f5589-da4a-4fee-9746-21bf5019e1a7"
      },
      "source": [
        "forestfires.info()\n"
      ],
      "execution_count": 59,
      "outputs": [
        {
          "output_type": "stream",
          "text": [
            "<class 'pandas.core.frame.DataFrame'>\n",
            "RangeIndex: 517 entries, 0 to 516\n",
            "Data columns (total 31 columns):\n",
            " #   Column         Non-Null Count  Dtype  \n",
            "---  ------         --------------  -----  \n",
            " 0   month          517 non-null    int64  \n",
            " 1   day            517 non-null    int64  \n",
            " 2   FFMC           517 non-null    float64\n",
            " 3   DMC            517 non-null    float64\n",
            " 4   DC             517 non-null    float64\n",
            " 5   ISI            517 non-null    float64\n",
            " 6   temp           517 non-null    float64\n",
            " 7   RH             517 non-null    int64  \n",
            " 8   wind           517 non-null    float64\n",
            " 9   rain           517 non-null    float64\n",
            " 10  area           517 non-null    float64\n",
            " 11  dayfri         517 non-null    int64  \n",
            " 12  daymon         517 non-null    int64  \n",
            " 13  daysat         517 non-null    int64  \n",
            " 14  daysun         517 non-null    int64  \n",
            " 15  daythu         517 non-null    int64  \n",
            " 16  daytue         517 non-null    int64  \n",
            " 17  daywed         517 non-null    int64  \n",
            " 18  monthapr       517 non-null    int64  \n",
            " 19  monthaug       517 non-null    int64  \n",
            " 20  monthdec       517 non-null    int64  \n",
            " 21  monthfeb       517 non-null    int64  \n",
            " 22  monthjan       517 non-null    int64  \n",
            " 23  monthjul       517 non-null    int64  \n",
            " 24  monthjun       517 non-null    int64  \n",
            " 25  monthmar       517 non-null    int64  \n",
            " 26  monthmay       517 non-null    int64  \n",
            " 27  monthnov       517 non-null    int64  \n",
            " 28  monthoct       517 non-null    int64  \n",
            " 29  monthsep       517 non-null    int64  \n",
            " 30  size_category  517 non-null    object \n",
            "dtypes: float64(8), int64(22), object(1)\n",
            "memory usage: 125.3+ KB\n"
          ],
          "name": "stdout"
        }
      ]
    },
    {
      "cell_type": "code",
      "metadata": {
        "colab": {
          "base_uri": "https://localhost:8080/"
        },
        "id": "7lJIUvgkkmVA",
        "outputId": "665c811f-a644-4cbf-d56d-639174947e34"
      },
      "source": [
        "forestfires.shape"
      ],
      "execution_count": 60,
      "outputs": [
        {
          "output_type": "execute_result",
          "data": {
            "text/plain": [
              "(517, 31)"
            ]
          },
          "metadata": {
            "tags": []
          },
          "execution_count": 60
        }
      ]
    },
    {
      "cell_type": "code",
      "metadata": {
        "colab": {
          "base_uri": "https://localhost:8080/"
        },
        "id": "LtFUER2zq3p4",
        "outputId": "39889dc5-d863-41e5-8661-f325f47557a1"
      },
      "source": [
        "forestfires.dtypes # datatypes"
      ],
      "execution_count": 61,
      "outputs": [
        {
          "output_type": "execute_result",
          "data": {
            "text/plain": [
              "month              int64\n",
              "day                int64\n",
              "FFMC             float64\n",
              "DMC              float64\n",
              "DC               float64\n",
              "ISI              float64\n",
              "temp             float64\n",
              "RH                 int64\n",
              "wind             float64\n",
              "rain             float64\n",
              "area             float64\n",
              "dayfri             int64\n",
              "daymon             int64\n",
              "daysat             int64\n",
              "daysun             int64\n",
              "daythu             int64\n",
              "daytue             int64\n",
              "daywed             int64\n",
              "monthapr           int64\n",
              "monthaug           int64\n",
              "monthdec           int64\n",
              "monthfeb           int64\n",
              "monthjan           int64\n",
              "monthjul           int64\n",
              "monthjun           int64\n",
              "monthmar           int64\n",
              "monthmay           int64\n",
              "monthnov           int64\n",
              "monthoct           int64\n",
              "monthsep           int64\n",
              "size_category     object\n",
              "dtype: object"
            ]
          },
          "metadata": {
            "tags": []
          },
          "execution_count": 61
        }
      ]
    },
    {
      "cell_type": "code",
      "metadata": {
        "colab": {
          "base_uri": "https://localhost:8080/"
        },
        "id": "G1SSyNALrB8q",
        "outputId": "02489a72-f7af-47d2-aa49-7e257bdac0f9"
      },
      "source": [
        "print(\"correlation:\",forestfires.corr(method='pearson'))"
      ],
      "execution_count": 62,
      "outputs": [
        {
          "output_type": "stream",
          "text": [
            "correlation:              month       day      FFMC  ...  monthnov  monthoct  monthsep\n",
            "month     1.000000 -0.050837  0.291477  ...  0.068231  0.191895  0.473304\n",
            "day      -0.050837  1.000000 -0.041068  ... -0.048025 -0.032764 -0.022955\n",
            "FFMC      0.291477 -0.041068  1.000000  ... -0.088964 -0.005998  0.076609\n",
            "DMC       0.466645  0.062870  0.382619  ... -0.074218 -0.187632  0.110907\n",
            "DC        0.868698  0.000105  0.330512  ... -0.078380  0.093279  0.531857\n",
            "ISI       0.186597  0.032909  0.531805  ... -0.076559 -0.071154 -0.068877\n",
            "temp      0.368842  0.052190  0.431532  ... -0.053798 -0.053513  0.088006\n",
            "RH       -0.095280  0.092151 -0.300995  ... -0.035885 -0.072334 -0.062596\n",
            "wind     -0.086368  0.032478 -0.028485  ...  0.011864 -0.053850 -0.181476\n",
            "rain      0.013438 -0.048340  0.056702  ... -0.003225 -0.012665 -0.051733\n",
            "area      0.056496  0.023226  0.040122  ... -0.008893 -0.016878  0.056573\n",
            "dayfri   -0.028562  0.158676  0.019306  ... -0.019527 -0.045585  0.107671\n",
            "daymon   -0.002941 -0.643220 -0.059396  ... -0.017992  0.060975  0.039632\n",
            "daysat   -0.057580  0.370240 -0.019637  ... -0.019390  0.017584 -0.032783\n",
            "daysun   -0.009232  0.627944 -0.089517  ... -0.020887  0.007252 -0.048817\n",
            "daythu    0.028940 -0.045775  0.071730  ... -0.016101 -0.063223  0.008984\n",
            "daytue    0.053072 -0.410043  0.011225  ...  0.117121  0.005008 -0.028570\n",
            "daywed    0.031445 -0.207650  0.093908  ... -0.015034  0.016325 -0.053222\n",
            "monthapr -0.203468  0.040473 -0.117199  ... -0.005860 -0.023008 -0.093982\n",
            "monthaug  0.171362  0.049373  0.228103  ... -0.032724 -0.128493 -0.524858\n",
            "monthdec  0.264837 -0.095214 -0.137044  ... -0.005860 -0.023008 -0.093982\n",
            "monthfeb -0.483099  0.028170 -0.281535  ... -0.008831 -0.034676 -0.141642\n",
            "monthjan -0.177483  0.067430 -0.454771  ... -0.002743 -0.010772 -0.044001\n",
            "monthjul -0.053753 -0.005016  0.031833  ... -0.011308 -0.044402 -0.181367\n",
            "monthjun -0.119681  0.013585 -0.040634  ... -0.008117 -0.031874 -0.130195\n",
            "monthmar -0.672248 -0.036634 -0.074327  ... -0.015034 -0.059034 -0.241135\n",
            "monthmay -0.067855  0.037338 -0.037230  ... -0.002743 -0.010772 -0.044001\n",
            "monthnov  0.068231 -0.048025 -0.088964  ...  1.000000 -0.007610 -0.031083\n",
            "monthoct  0.191895 -0.032764 -0.005998  ... -0.007610  1.000000 -0.122053\n",
            "monthsep  0.473304 -0.022955  0.076609  ... -0.031083 -0.122053  1.000000\n",
            "\n",
            "[30 rows x 30 columns]\n"
          ],
          "name": "stdout"
        }
      ]
    },
    {
      "cell_type": "code",
      "metadata": {
        "id": "1GxmF4jCrZtE"
      },
      "source": [
        "forestfires = forestfires.values\n",
        "\n",
        "# split into input and output values \n",
        "x=forestfires[:,0:12]\n",
        "y=forestfires[:,12]"
      ],
      "execution_count": 63,
      "outputs": []
    },
    {
      "cell_type": "code",
      "metadata": {
        "colab": {
          "base_uri": "https://localhost:8080/"
        },
        "id": "BQuW3Rm0r-NF",
        "outputId": "27d1e15a-2d3c-4416-9900-e8363a22b4bd"
      },
      "source": [
        "# feature selection \n",
        "model = ExtraTreesRegressor()\n",
        "rfe = RFE(model,3)\n",
        "model1 = rfe.fit(x,y)\n",
        "\n",
        "print(\"Numbers of features:\",model1.n_features_)\n",
        "print(\"Selected features:\",model1.support_)\n",
        "print(\"Feature ranking :\",model1.ranking_)"
      ],
      "execution_count": 64,
      "outputs": [
        {
          "output_type": "stream",
          "text": [
            "Numbers of features: 3\n",
            "Selected features: [False  True False False False False False False False False  True  True]\n",
            "Feature ranking : [10  1  8  9  7  6  5  4  3  2  1  1]\n"
          ],
          "name": "stdout"
        }
      ]
    },
    {
      "cell_type": "code",
      "metadata": {
        "id": "e-t0hSuxshNs"
      },
      "source": [
        "# normalize the dataset\n",
        "Y = numpy.array(y).reshape((len(y), 1))\n",
        "\n",
        "\n",
        "scaler = MinMaxScaler(feature_range=(0, 1))\n",
        "Y = scaler.fit_transform(Y)"
      ],
      "execution_count": 65,
      "outputs": []
    },
    {
      "cell_type": "code",
      "metadata": {
        "id": "Euw8PbC8tczu"
      },
      "source": [
        "# define model \n",
        "def create_model():\n",
        "  model = Sequential()\n",
        "  model.add(Dense(10,input_dim = 12,kernel_initializer='uniform',activation='relu'))\n",
        "  model.add(Dense(3,kernel_initializer='uniform',activation='relu'))\n",
        "  model.add(Dense(1,kernel_initializer='uniform',activation='sigmoid'))\n",
        "\n",
        "  adam=Adam(learning_rate=0.01)\n",
        "\n",
        "  # compile model \n",
        "  model.compile (loss='mean_squared_error',optimizer = adam)\n",
        "  return model"
      ],
      "execution_count": 75,
      "outputs": []
    },
    {
      "cell_type": "code",
      "metadata": {
        "colab": {
          "base_uri": "https://localhost:8080/"
        },
        "id": "cYlXjEn1zFnj",
        "outputId": "a479375c-281a-4a2c-e46f-ea2684a775ef"
      },
      "source": [
        "# evaluate the model \n",
        "estimator = KerasRegressor(build_fn=create_model,epochs=600,batch_size=5,verbose = 0)\n",
        "kfold = KFold(n_splits=30,random_state=seed)\n",
        "results = cross_val_score(estimator,x,y,cv=kfold)\n",
        "print(\"Results: %.2f (%.2f) MSE\" % (results.mean(), results.std()))"
      ],
      "execution_count": 76,
      "outputs": [
        {
          "output_type": "stream",
          "text": [
            "/usr/local/lib/python3.7/dist-packages/sklearn/model_selection/_split.py:296: FutureWarning: Setting a random_state has no effect since shuffle is False. This will raise an error in 0.24. You should leave random_state to its default (None), or set shuffle=True.\n",
            "  FutureWarning\n",
            "/usr/local/lib/python3.7/dist-packages/sklearn/model_selection/_validation.py:536: FitFailedWarning: Estimator fit failed. The score on this train-test partition for these parameters will be set to nan. Details: \n",
            "ValueError: Failed to convert a NumPy array to a Tensor (Unsupported object type int).\n",
            "\n",
            "  FitFailedWarning)\n"
          ],
          "name": "stderr"
        },
        {
          "output_type": "stream",
          "text": [
            "Results: nan (nan) MSE\n"
          ],
          "name": "stdout"
        }
      ]
    },
    {
      "cell_type": "code",
      "metadata": {
        "id": "hdVJtcts0tDR"
      },
      "source": [
        ""
      ],
      "execution_count": 69,
      "outputs": []
    }
  ]
}