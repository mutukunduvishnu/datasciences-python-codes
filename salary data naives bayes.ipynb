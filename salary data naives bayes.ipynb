{
 "cells": [
  {
   "cell_type": "markdown",
   "metadata": {},
   "source": [
    "# Salary_Data_Train"
   ]
  },
  {
   "cell_type": "code",
   "execution_count": 1,
   "metadata": {
    "ExecuteTime": {
     "end_time": "2021-02-23T06:51:29.300592Z",
     "start_time": "2021-02-23T06:51:27.949026Z"
    }
   },
   "outputs": [],
   "source": [
    "import pandas as pd\n",
    "import numpy as np\n",
    "import matplotlib.pylab as plt"
   ]
  },
  {
   "cell_type": "code",
   "execution_count": 2,
   "metadata": {
    "ExecuteTime": {
     "end_time": "2021-02-23T06:51:29.409001Z",
     "start_time": "2021-02-23T06:51:29.304604Z"
    }
   },
   "outputs": [],
   "source": [
    "Salary_Data_train=pd.read_csv(\"SalaryData_Train(1).csv\")"
   ]
  },
  {
   "cell_type": "code",
   "execution_count": 3,
   "metadata": {
    "ExecuteTime": {
     "end_time": "2021-02-23T06:51:30.341509Z",
     "start_time": "2021-02-23T06:51:29.412888Z"
    }
   },
   "outputs": [],
   "source": [
    "from sklearn.naive_bayes import GaussianNB\n",
    "from sklearn.naive_bayes import MultinomialNB\n",
    "from sklearn.model_selection import train_test_split\n",
    "from sklearn.metrics import confusion_matrix"
   ]
  },
  {
   "cell_type": "code",
   "execution_count": 4,
   "metadata": {
    "ExecuteTime": {
     "end_time": "2021-02-23T06:51:30.388679Z",
     "start_time": "2021-02-23T06:51:30.347525Z"
    }
   },
   "outputs": [
    {
     "data": {
      "text/html": [
       "<div>\n",
       "<style scoped>\n",
       "    .dataframe tbody tr th:only-of-type {\n",
       "        vertical-align: middle;\n",
       "    }\n",
       "\n",
       "    .dataframe tbody tr th {\n",
       "        vertical-align: top;\n",
       "    }\n",
       "\n",
       "    .dataframe thead th {\n",
       "        text-align: right;\n",
       "    }\n",
       "</style>\n",
       "<table border=\"1\" class=\"dataframe\">\n",
       "  <thead>\n",
       "    <tr style=\"text-align: right;\">\n",
       "      <th></th>\n",
       "      <th>age</th>\n",
       "      <th>workclass</th>\n",
       "      <th>education</th>\n",
       "      <th>educationno</th>\n",
       "      <th>maritalstatus</th>\n",
       "      <th>occupation</th>\n",
       "      <th>relationship</th>\n",
       "      <th>race</th>\n",
       "      <th>sex</th>\n",
       "      <th>capitalgain</th>\n",
       "      <th>capitalloss</th>\n",
       "      <th>hoursperweek</th>\n",
       "      <th>native</th>\n",
       "      <th>Salary</th>\n",
       "    </tr>\n",
       "  </thead>\n",
       "  <tbody>\n",
       "    <tr>\n",
       "      <th>0</th>\n",
       "      <td>39</td>\n",
       "      <td>State-gov</td>\n",
       "      <td>Bachelors</td>\n",
       "      <td>13</td>\n",
       "      <td>Never-married</td>\n",
       "      <td>Adm-clerical</td>\n",
       "      <td>Not-in-family</td>\n",
       "      <td>White</td>\n",
       "      <td>Male</td>\n",
       "      <td>2174</td>\n",
       "      <td>0</td>\n",
       "      <td>40</td>\n",
       "      <td>United-States</td>\n",
       "      <td>&lt;=50K</td>\n",
       "    </tr>\n",
       "    <tr>\n",
       "      <th>1</th>\n",
       "      <td>50</td>\n",
       "      <td>Self-emp-not-inc</td>\n",
       "      <td>Bachelors</td>\n",
       "      <td>13</td>\n",
       "      <td>Married-civ-spouse</td>\n",
       "      <td>Exec-managerial</td>\n",
       "      <td>Husband</td>\n",
       "      <td>White</td>\n",
       "      <td>Male</td>\n",
       "      <td>0</td>\n",
       "      <td>0</td>\n",
       "      <td>13</td>\n",
       "      <td>United-States</td>\n",
       "      <td>&lt;=50K</td>\n",
       "    </tr>\n",
       "    <tr>\n",
       "      <th>2</th>\n",
       "      <td>38</td>\n",
       "      <td>Private</td>\n",
       "      <td>HS-grad</td>\n",
       "      <td>9</td>\n",
       "      <td>Divorced</td>\n",
       "      <td>Handlers-cleaners</td>\n",
       "      <td>Not-in-family</td>\n",
       "      <td>White</td>\n",
       "      <td>Male</td>\n",
       "      <td>0</td>\n",
       "      <td>0</td>\n",
       "      <td>40</td>\n",
       "      <td>United-States</td>\n",
       "      <td>&lt;=50K</td>\n",
       "    </tr>\n",
       "    <tr>\n",
       "      <th>3</th>\n",
       "      <td>53</td>\n",
       "      <td>Private</td>\n",
       "      <td>11th</td>\n",
       "      <td>7</td>\n",
       "      <td>Married-civ-spouse</td>\n",
       "      <td>Handlers-cleaners</td>\n",
       "      <td>Husband</td>\n",
       "      <td>Black</td>\n",
       "      <td>Male</td>\n",
       "      <td>0</td>\n",
       "      <td>0</td>\n",
       "      <td>40</td>\n",
       "      <td>United-States</td>\n",
       "      <td>&lt;=50K</td>\n",
       "    </tr>\n",
       "    <tr>\n",
       "      <th>4</th>\n",
       "      <td>28</td>\n",
       "      <td>Private</td>\n",
       "      <td>Bachelors</td>\n",
       "      <td>13</td>\n",
       "      <td>Married-civ-spouse</td>\n",
       "      <td>Prof-specialty</td>\n",
       "      <td>Wife</td>\n",
       "      <td>Black</td>\n",
       "      <td>Female</td>\n",
       "      <td>0</td>\n",
       "      <td>0</td>\n",
       "      <td>40</td>\n",
       "      <td>Cuba</td>\n",
       "      <td>&lt;=50K</td>\n",
       "    </tr>\n",
       "  </tbody>\n",
       "</table>\n",
       "</div>"
      ],
      "text/plain": [
       "   age          workclass   education  educationno        maritalstatus  \\\n",
       "0   39          State-gov   Bachelors           13        Never-married   \n",
       "1   50   Self-emp-not-inc   Bachelors           13   Married-civ-spouse   \n",
       "2   38            Private     HS-grad            9             Divorced   \n",
       "3   53            Private        11th            7   Married-civ-spouse   \n",
       "4   28            Private   Bachelors           13   Married-civ-spouse   \n",
       "\n",
       "           occupation    relationship    race      sex  capitalgain  \\\n",
       "0        Adm-clerical   Not-in-family   White     Male         2174   \n",
       "1     Exec-managerial         Husband   White     Male            0   \n",
       "2   Handlers-cleaners   Not-in-family   White     Male            0   \n",
       "3   Handlers-cleaners         Husband   Black     Male            0   \n",
       "4      Prof-specialty            Wife   Black   Female            0   \n",
       "\n",
       "   capitalloss  hoursperweek          native  Salary  \n",
       "0            0            40   United-States   <=50K  \n",
       "1            0            13   United-States   <=50K  \n",
       "2            0            40   United-States   <=50K  \n",
       "3            0            40   United-States   <=50K  \n",
       "4            0            40            Cuba   <=50K  "
      ]
     },
     "execution_count": 4,
     "metadata": {},
     "output_type": "execute_result"
    }
   ],
   "source": [
    "Salary_Data_train.head()"
   ]
  },
  {
   "cell_type": "code",
   "execution_count": 5,
   "metadata": {
    "ExecuteTime": {
     "end_time": "2021-02-23T06:51:30.558023Z",
     "start_time": "2021-02-23T06:51:30.394650Z"
    }
   },
   "outputs": [
    {
     "data": {
      "text/plain": [
       "(30161, 14)"
      ]
     },
     "execution_count": 5,
     "metadata": {},
     "output_type": "execute_result"
    }
   ],
   "source": [
    "Salary_Data_train.shape"
   ]
  },
  {
   "cell_type": "code",
   "execution_count": 6,
   "metadata": {
    "ExecuteTime": {
     "end_time": "2021-02-23T06:51:30.686748Z",
     "start_time": "2021-02-23T06:51:30.562032Z"
    }
   },
   "outputs": [],
   "source": [
    "data_for_train=pd.DataFrame(Salary_Data_train)"
   ]
  },
  {
   "cell_type": "code",
   "execution_count": 7,
   "metadata": {
    "ExecuteTime": {
     "end_time": "2021-02-23T06:51:31.213515Z",
     "start_time": "2021-02-23T06:51:30.690763Z"
    }
   },
   "outputs": [
    {
     "data": {
      "text/plain": [
       "<matplotlib.collections.PathCollection at 0x1aec83ff6a0>"
      ]
     },
     "execution_count": 7,
     "metadata": {},
     "output_type": "execute_result"
    },
    {
     "data": {
      "image/png": "[encoded data removed]",
      "text/plain": [
       "<Figure size 432x288 with 1 Axes>"
      ]
     },
     "metadata": {
      "needs_background": "light"
     },
     "output_type": "display_data"
    }
   ],
   "source": [
    "plt.scatter(data_for_train.age,data_for_train.Salary)"
   ]
  },
  {
   "cell_type": "code",
   "execution_count": 8,
   "metadata": {
    "ExecuteTime": {
     "end_time": "2021-02-23T06:51:31.289719Z",
     "start_time": "2021-02-23T06:51:31.221537Z"
    }
   },
   "outputs": [
    {
     "name": "stdout",
     "output_type": "stream",
     "text": [
      "       age          workclass    education  educationno        maritalstatus  \\\n",
      "0       39          State-gov    Bachelors           13        Never-married   \n",
      "1       50   Self-emp-not-inc    Bachelors           13   Married-civ-spouse   \n",
      "2       38            Private      HS-grad            9             Divorced   \n",
      "3       53            Private         11th            7   Married-civ-spouse   \n",
      "4       28            Private    Bachelors           13   Married-civ-spouse   \n",
      "...    ...                ...          ...          ...                  ...   \n",
      "30156   27            Private   Assoc-acdm           12   Married-civ-spouse   \n",
      "30157   40            Private      HS-grad            9   Married-civ-spouse   \n",
      "30158   58            Private      HS-grad            9              Widowed   \n",
      "30159   22            Private      HS-grad            9        Never-married   \n",
      "30160   52       Self-emp-inc      HS-grad            9   Married-civ-spouse   \n",
      "\n",
      "               occupation    relationship    race      sex  capitalgain  \\\n",
      "0            Adm-clerical   Not-in-family   White     Male         2174   \n",
      "1         Exec-managerial         Husband   White     Male            0   \n",
      "2       Handlers-cleaners   Not-in-family   White     Male            0   \n",
      "3       Handlers-cleaners         Husband   Black     Male            0   \n",
      "4          Prof-specialty            Wife   Black   Female            0   \n",
      "...                   ...             ...     ...      ...          ...   \n",
      "30156        Tech-support            Wife   White   Female            0   \n",
      "30157   Machine-op-inspct         Husband   White     Male            0   \n",
      "30158        Adm-clerical       Unmarried   White   Female            0   \n",
      "30159        Adm-clerical       Own-child   White     Male            0   \n",
      "30160     Exec-managerial            Wife   White   Female        15024   \n",
      "\n",
      "       capitalloss  hoursperweek          native  Salary  sex_ Female  \\\n",
      "0                0            40   United-States   <=50K            0   \n",
      "1                0            13   United-States   <=50K            0   \n",
      "2                0            40   United-States   <=50K            0   \n",
      "3                0            40   United-States   <=50K            0   \n",
      "4                0            40            Cuba   <=50K            1   \n",
      "...            ...           ...             ...     ...          ...   \n",
      "30156            0            38   United-States   <=50K            1   \n",
      "30157            0            40   United-States    >50K            0   \n",
      "30158            0            40   United-States   <=50K            1   \n",
      "30159            0            20   United-States   <=50K            0   \n",
      "30160            0            40   United-States    >50K            1   \n",
      "\n",
      "       sex_ Male  \n",
      "0              1  \n",
      "1              1  \n",
      "2              1  \n",
      "3              1  \n",
      "4              0  \n",
      "...          ...  \n",
      "30156          0  \n",
      "30157          1  \n",
      "30158          0  \n",
      "30159          1  \n",
      "30160          0  \n",
      "\n",
      "[30161 rows x 16 columns]\n"
     ]
    }
   ],
   "source": [
    "# create dummies for sex\n",
    "dummies = pd.get_dummies(data_for_train['sex']).rename(columns=lambda x: 'sex_' + str(x))\n",
    "# bring the dummies back into the original dataset\n",
    "data_for_train = pd.concat([data_for_train, dummies], axis=1)\n",
    "print(data_for_train)"
   ]
  },
  {
   "cell_type": "code",
   "execution_count": 9,
   "metadata": {
    "ExecuteTime": {
     "end_time": "2021-02-23T06:51:31.435107Z",
     "start_time": "2021-02-23T06:51:31.296737Z"
    }
   },
   "outputs": [
    {
     "name": "stdout",
     "output_type": "stream",
     "text": [
      "       age          workclass    education  educationno        maritalstatus  \\\n",
      "0       39          State-gov    Bachelors           13        Never-married   \n",
      "1       50   Self-emp-not-inc    Bachelors           13   Married-civ-spouse   \n",
      "2       38            Private      HS-grad            9             Divorced   \n",
      "3       53            Private         11th            7   Married-civ-spouse   \n",
      "4       28            Private    Bachelors           13   Married-civ-spouse   \n",
      "...    ...                ...          ...          ...                  ...   \n",
      "30156   27            Private   Assoc-acdm           12   Married-civ-spouse   \n",
      "30157   40            Private      HS-grad            9   Married-civ-spouse   \n",
      "30158   58            Private      HS-grad            9              Widowed   \n",
      "30159   22            Private      HS-grad            9        Never-married   \n",
      "30160   52       Self-emp-inc      HS-grad            9   Married-civ-spouse   \n",
      "\n",
      "               occupation    relationship    race      sex  capitalgain  ...  \\\n",
      "0            Adm-clerical   Not-in-family   White     Male         2174  ...   \n",
      "1         Exec-managerial         Husband   White     Male            0  ...   \n",
      "2       Handlers-cleaners   Not-in-family   White     Male            0  ...   \n",
      "3       Handlers-cleaners         Husband   Black     Male            0  ...   \n",
      "4          Prof-specialty            Wife   Black   Female            0  ...   \n",
      "...                   ...             ...     ...      ...          ...  ...   \n",
      "30156        Tech-support            Wife   White   Female            0  ...   \n",
      "30157   Machine-op-inspct         Husband   White     Male            0  ...   \n",
      "30158        Adm-clerical       Unmarried   White   Female            0  ...   \n",
      "30159        Adm-clerical       Own-child   White     Male            0  ...   \n",
      "30160     Exec-managerial            Wife   White   Female        15024  ...   \n",
      "\n",
      "       Salary  sex_ Female sex_ Male maritalstatus_ Divorced  \\\n",
      "0       <=50K            0         1                       0   \n",
      "1       <=50K            0         1                       0   \n",
      "2       <=50K            0         1                       1   \n",
      "3       <=50K            0         1                       0   \n",
      "4       <=50K            1         0                       0   \n",
      "...       ...          ...       ...                     ...   \n",
      "30156   <=50K            1         0                       0   \n",
      "30157    >50K            0         1                       0   \n",
      "30158   <=50K            1         0                       0   \n",
      "30159   <=50K            0         1                       0   \n",
      "30160    >50K            1         0                       0   \n",
      "\n",
      "       maritalstatus_ Married-AF-spouse  maritalstatus_ Married-civ-spouse  \\\n",
      "0                                     0                                  0   \n",
      "1                                     0                                  1   \n",
      "2                                     0                                  0   \n",
      "3                                     0                                  1   \n",
      "4                                     0                                  1   \n",
      "...                                 ...                                ...   \n",
      "30156                                 0                                  1   \n",
      "30157                                 0                                  1   \n",
      "30158                                 0                                  0   \n",
      "30159                                 0                                  0   \n",
      "30160                                 0                                  1   \n",
      "\n",
      "       maritalstatus_ Married-spouse-absent  maritalstatus_ Never-married  \\\n",
      "0                                         0                             1   \n",
      "1                                         0                             0   \n",
      "2                                         0                             0   \n",
      "3                                         0                             0   \n",
      "4                                         0                             0   \n",
      "...                                     ...                           ...   \n",
      "30156                                     0                             0   \n",
      "30157                                     0                             0   \n",
      "30158                                     0                             0   \n",
      "30159                                     0                             1   \n",
      "30160                                     0                             0   \n",
      "\n",
      "       maritalstatus_ Separated  maritalstatus_ Widowed  \n",
      "0                             0                       0  \n",
      "1                             0                       0  \n",
      "2                             0                       0  \n",
      "3                             0                       0  \n",
      "4                             0                       0  \n",
      "...                         ...                     ...  \n",
      "30156                         0                       0  \n",
      "30157                         0                       0  \n",
      "30158                         0                       1  \n",
      "30159                         0                       0  \n",
      "30160                         0                       0  \n",
      "\n",
      "[30161 rows x 23 columns]\n"
     ]
    }
   ],
   "source": [
    "# create dummies for maritalstatus\n",
    "dummies = pd.get_dummies(data_for_train['maritalstatus']).rename(columns=lambda x: 'maritalstatus_' + str(x))\n",
    "# bring the dummies back into the original dataset\n",
    "data_for_train = pd.concat([data_for_train, dummies], axis=1)\n",
    "print(data_for_train)"
   ]
  },
  {
   "cell_type": "code",
   "execution_count": 10,
   "metadata": {
    "ExecuteTime": {
     "end_time": "2021-02-23T06:51:31.632258Z",
     "start_time": "2021-02-23T06:51:31.439117Z"
    }
   },
   "outputs": [
    {
     "data": {
      "text/plain": [
       "Index(['age', 'workclass', 'education', 'educationno', 'maritalstatus',\n",
       "       'occupation', 'relationship', 'race', 'sex', 'capitalgain',\n",
       "       'capitalloss', 'hoursperweek', 'native', 'Salary', 'sex_ Female',\n",
       "       'sex_ Male', 'maritalstatus_ Divorced',\n",
       "       'maritalstatus_ Married-AF-spouse', 'maritalstatus_ Married-civ-spouse',\n",
       "       'maritalstatus_ Married-spouse-absent', 'maritalstatus_ Never-married',\n",
       "       'maritalstatus_ Separated', 'maritalstatus_ Widowed'],\n",
       "      dtype='object')"
      ]
     },
     "execution_count": 10,
     "metadata": {},
     "output_type": "execute_result"
    }
   ],
   "source": [
    "data_for_train.columns"
   ]
  },
  {
   "cell_type": "code",
   "execution_count": 11,
   "metadata": {
    "ExecuteTime": {
     "end_time": "2021-02-23T06:51:31.789439Z",
     "start_time": "2021-02-23T06:51:31.642283Z"
    }
   },
   "outputs": [],
   "source": [
    "col = list(data_for_train.columns)[1:3]\n",
    "data_for_train.drop(col, axis=1, inplace=True)"
   ]
  },
  {
   "cell_type": "code",
   "execution_count": 12,
   "metadata": {
    "ExecuteTime": {
     "end_time": "2021-02-23T06:51:31.899819Z",
     "start_time": "2021-02-23T06:51:31.796352Z"
    }
   },
   "outputs": [],
   "source": [
    "col = list(data_for_train.columns)[2:11]\n",
    "data_for_train.drop(col, axis=1, inplace=True)"
   ]
  },
  {
   "cell_type": "code",
   "execution_count": 13,
   "metadata": {
    "ExecuteTime": {
     "end_time": "2021-02-23T06:51:32.041778Z",
     "start_time": "2021-02-23T06:51:31.910816Z"
    }
   },
   "outputs": [
    {
     "data": {
      "text/plain": [
       "Index(['age', 'educationno', 'Salary', 'sex_ Female', 'sex_ Male',\n",
       "       'maritalstatus_ Divorced', 'maritalstatus_ Married-AF-spouse',\n",
       "       'maritalstatus_ Married-civ-spouse',\n",
       "       'maritalstatus_ Married-spouse-absent', 'maritalstatus_ Never-married',\n",
       "       'maritalstatus_ Separated', 'maritalstatus_ Widowed'],\n",
       "      dtype='object')"
      ]
     },
     "execution_count": 13,
     "metadata": {},
     "output_type": "execute_result"
    }
   ],
   "source": [
    "data_for_train.columns"
   ]
  },
  {
   "cell_type": "code",
   "execution_count": 14,
   "metadata": {
    "ExecuteTime": {
     "end_time": "2021-02-23T06:51:32.168437Z",
     "start_time": "2021-02-23T06:51:32.051803Z"
    }
   },
   "outputs": [
    {
     "data": {
      "text/plain": [
       "(30161, 12)"
      ]
     },
     "execution_count": 14,
     "metadata": {},
     "output_type": "execute_result"
    }
   ],
   "source": [
    "data_for_train.shape"
   ]
  },
  {
   "cell_type": "code",
   "execution_count": 15,
   "metadata": {
    "ExecuteTime": {
     "end_time": "2021-02-23T06:51:32.296746Z",
     "start_time": "2021-02-23T06:51:32.178466Z"
    }
   },
   "outputs": [],
   "source": [
    "ip_columns = ['age','educationno','sex_ Female','sex_ Male','maritalstatus_ Divorced','maritalstatus_ Married-AF-spouse','maritalstatus_ Married-civ-spouse','maritalstatus_ Married-spouse-absent','maritalstatus_ Never-married','maritalstatus_ Separated','maritalstatus_ Widowed']\n",
    "op_column = ['Salary']"
   ]
  },
  {
   "cell_type": "code",
   "execution_count": 16,
   "metadata": {
    "ExecuteTime": {
     "end_time": "2021-02-23T06:51:32.459168Z",
     "start_time": "2021-02-23T06:51:32.308774Z"
    }
   },
   "outputs": [],
   "source": [
    "# Splitting data into train and test\n",
    "Xtrain,Xtest,ytrain,ytest = train_test_split(data_for_train[ip_columns],data_for_train[op_column],test_size=0.3, random_state=0)\n"
   ]
  },
  {
   "cell_type": "code",
   "execution_count": 17,
   "metadata": {
    "ExecuteTime": {
     "end_time": "2021-02-23T06:51:32.572865Z",
     "start_time": "2021-02-23T06:51:32.468193Z"
    }
   },
   "outputs": [],
   "source": [
    "ignb = GaussianNB()\n",
    "imnb = MultinomialNB()"
   ]
  },
  {
   "cell_type": "code",
   "execution_count": 18,
   "metadata": {
    "ExecuteTime": {
     "end_time": "2021-02-23T06:51:32.958531Z",
     "start_time": "2021-02-23T06:51:32.589908Z"
    }
   },
   "outputs": [
    {
     "name": "stderr",
     "output_type": "stream",
     "text": [
      "C:\\Users\\user\\anaconda3\\lib\\site-packages\\sklearn\\utils\\validation.py:73: DataConversionWarning: A column-vector y was passed when a 1d array was expected. Please change the shape of y to (n_samples, ), for example using ravel().\n",
      "  return f(**kwargs)\n",
      "C:\\Users\\user\\anaconda3\\lib\\site-packages\\sklearn\\utils\\validation.py:73: DataConversionWarning: A column-vector y was passed when a 1d array was expected. Please change the shape of y to (n_samples, ), for example using ravel().\n",
      "  return f(**kwargs)\n"
     ]
    }
   ],
   "source": [
    "# Building and predicting at the same time \n",
    "pred_gnb = ignb.fit(Xtrain,ytrain).predict(Xtest)\n",
    "pred_mnb = imnb.fit(Xtrain,ytrain).predict(Xtest)"
   ]
  },
  {
   "cell_type": "code",
   "execution_count": 19,
   "metadata": {
    "ExecuteTime": {
     "end_time": "2021-02-23T06:51:33.070795Z",
     "start_time": "2021-02-23T06:51:32.963510Z"
    }
   },
   "outputs": [
    {
     "data": {
      "text/plain": [
       "0.7189744723173831"
      ]
     },
     "execution_count": 19,
     "metadata": {},
     "output_type": "execute_result"
    }
   ],
   "source": [
    "# Confusion matrix GaussianNB model\n",
    "confusion_matrix(ytest,pred_gnb) # GaussianNB model\n",
    "pd.crosstab(ytest.values.flatten(),pred_gnb) # confusion matrix using \n",
    "np.mean(pred_gnb==ytest.values.flatten()) # 71.89%"
   ]
  },
  {
   "cell_type": "code",
   "execution_count": 20,
   "metadata": {
    "ExecuteTime": {
     "end_time": "2021-02-23T06:51:33.202146Z",
     "start_time": "2021-02-23T06:51:33.075810Z"
    }
   },
   "outputs": [
    {
     "data": {
      "text/plain": [
       "0.7152171510664161"
      ]
     },
     "execution_count": 20,
     "metadata": {},
     "output_type": "execute_result"
    }
   ],
   "source": [
    "# Confusion matrix multinomialNB model\n",
    "confusion_matrix(ytest,pred_mnb) # multinomialNB model\n",
    "pd.crosstab(ytest.values.flatten(),pred_mnb) # confusion matrix using \n",
    "np.mean(pred_mnb==ytest.values.flatten()) # 71.52%"
   ]
  },
  {
   "cell_type": "code",
   "execution_count": 21,
   "metadata": {
    "ExecuteTime": {
     "end_time": "2021-02-23T06:51:33.336274Z",
     "start_time": "2021-02-23T06:51:33.206154Z"
    }
   },
   "outputs": [
    {
     "data": {
      "text/plain": [
       "array([[4770, 2028],\n",
       "       [ 549, 1702]], dtype=int64)"
      ]
     },
     "execution_count": 21,
     "metadata": {},
     "output_type": "execute_result"
    }
   ],
   "source": [
    "confusion_matrix(ytest,pred_mnb) # multinomailNB model"
   ]
  },
  {
   "cell_type": "code",
   "execution_count": 22,
   "metadata": {
    "ExecuteTime": {
     "end_time": "2021-02-23T06:51:33.515752Z",
     "start_time": "2021-02-23T06:51:33.341288Z"
    }
   },
   "outputs": [
    {
     "data": {
      "text/plain": [
       "array([[4707, 2091],\n",
       "       [ 452, 1799]], dtype=int64)"
      ]
     },
     "execution_count": 22,
     "metadata": {},
     "output_type": "execute_result"
    }
   ],
   "source": [
    "confusion_matrix(ytest,pred_gnb) # GaussianNB model"
   ]
  },
  {
   "cell_type": "markdown",
   "metadata": {},
   "source": [
    "# Salary_Data_Test"
   ]
  },
  {
   "cell_type": "code",
   "execution_count": 73,
   "metadata": {
    "ExecuteTime": {
     "end_time": "2021-02-23T07:00:03.843292Z",
     "start_time": "2021-02-23T07:00:03.838312Z"
    }
   },
   "outputs": [],
   "source": [
    "import pandas as pd\n",
    "import numpy as np\n",
    "import matplotlib.pylab as plt"
   ]
  },
  {
   "cell_type": "code",
   "execution_count": 74,
   "metadata": {
    "ExecuteTime": {
     "end_time": "2021-02-23T07:00:06.598937Z",
     "start_time": "2021-02-23T07:00:06.538778Z"
    }
   },
   "outputs": [],
   "source": [
    "Salary_Data_test=pd.read_csv(\"SalaryData_Test(1).csv\")"
   ]
  },
  {
   "cell_type": "code",
   "execution_count": 75,
   "metadata": {
    "ExecuteTime": {
     "end_time": "2021-02-23T07:00:09.347915Z",
     "start_time": "2021-02-23T07:00:09.343900Z"
    }
   },
   "outputs": [],
   "source": [
    "from sklearn.naive_bayes import GaussianNB\n",
    "from sklearn.naive_bayes import MultinomialNB\n",
    "from sklearn.model_selection import train_test_split\n",
    "from sklearn.metrics import confusion_matrix"
   ]
  },
  {
   "cell_type": "code",
   "execution_count": 76,
   "metadata": {
    "ExecuteTime": {
     "end_time": "2021-02-23T07:00:12.565878Z",
     "start_time": "2021-02-23T07:00:12.542818Z"
    }
   },
   "outputs": [
    {
     "data": {
      "text/html": [
       "<div>\n",
       "<style scoped>\n",
       "    .dataframe tbody tr th:only-of-type {\n",
       "        vertical-align: middle;\n",
       "    }\n",
       "\n",
       "    .dataframe tbody tr th {\n",
       "        vertical-align: top;\n",
       "    }\n",
       "\n",
       "    .dataframe thead th {\n",
       "        text-align: right;\n",
       "    }\n",
       "</style>\n",
       "<table border=\"1\" class=\"dataframe\">\n",
       "  <thead>\n",
       "    <tr style=\"text-align: right;\">\n",
       "      <th></th>\n",
       "      <th>age</th>\n",
       "      <th>workclass</th>\n",
       "      <th>education</th>\n",
       "      <th>educationno</th>\n",
       "      <th>maritalstatus</th>\n",
       "      <th>occupation</th>\n",
       "      <th>relationship</th>\n",
       "      <th>race</th>\n",
       "      <th>sex</th>\n",
       "      <th>capitalgain</th>\n",
       "      <th>capitalloss</th>\n",
       "      <th>hoursperweek</th>\n",
       "      <th>native</th>\n",
       "      <th>Salary</th>\n",
       "    </tr>\n",
       "  </thead>\n",
       "  <tbody>\n",
       "    <tr>\n",
       "      <th>0</th>\n",
       "      <td>25</td>\n",
       "      <td>Private</td>\n",
       "      <td>11th</td>\n",
       "      <td>7</td>\n",
       "      <td>Never-married</td>\n",
       "      <td>Machine-op-inspct</td>\n",
       "      <td>Own-child</td>\n",
       "      <td>Black</td>\n",
       "      <td>Male</td>\n",
       "      <td>0</td>\n",
       "      <td>0</td>\n",
       "      <td>40</td>\n",
       "      <td>United-States</td>\n",
       "      <td>&lt;=50K</td>\n",
       "    </tr>\n",
       "    <tr>\n",
       "      <th>1</th>\n",
       "      <td>38</td>\n",
       "      <td>Private</td>\n",
       "      <td>HS-grad</td>\n",
       "      <td>9</td>\n",
       "      <td>Married-civ-spouse</td>\n",
       "      <td>Farming-fishing</td>\n",
       "      <td>Husband</td>\n",
       "      <td>White</td>\n",
       "      <td>Male</td>\n",
       "      <td>0</td>\n",
       "      <td>0</td>\n",
       "      <td>50</td>\n",
       "      <td>United-States</td>\n",
       "      <td>&lt;=50K</td>\n",
       "    </tr>\n",
       "    <tr>\n",
       "      <th>2</th>\n",
       "      <td>28</td>\n",
       "      <td>Local-gov</td>\n",
       "      <td>Assoc-acdm</td>\n",
       "      <td>12</td>\n",
       "      <td>Married-civ-spouse</td>\n",
       "      <td>Protective-serv</td>\n",
       "      <td>Husband</td>\n",
       "      <td>White</td>\n",
       "      <td>Male</td>\n",
       "      <td>0</td>\n",
       "      <td>0</td>\n",
       "      <td>40</td>\n",
       "      <td>United-States</td>\n",
       "      <td>&gt;50K</td>\n",
       "    </tr>\n",
       "    <tr>\n",
       "      <th>3</th>\n",
       "      <td>44</td>\n",
       "      <td>Private</td>\n",
       "      <td>Some-college</td>\n",
       "      <td>10</td>\n",
       "      <td>Married-civ-spouse</td>\n",
       "      <td>Machine-op-inspct</td>\n",
       "      <td>Husband</td>\n",
       "      <td>Black</td>\n",
       "      <td>Male</td>\n",
       "      <td>7688</td>\n",
       "      <td>0</td>\n",
       "      <td>40</td>\n",
       "      <td>United-States</td>\n",
       "      <td>&gt;50K</td>\n",
       "    </tr>\n",
       "    <tr>\n",
       "      <th>4</th>\n",
       "      <td>34</td>\n",
       "      <td>Private</td>\n",
       "      <td>10th</td>\n",
       "      <td>6</td>\n",
       "      <td>Never-married</td>\n",
       "      <td>Other-service</td>\n",
       "      <td>Not-in-family</td>\n",
       "      <td>White</td>\n",
       "      <td>Male</td>\n",
       "      <td>0</td>\n",
       "      <td>0</td>\n",
       "      <td>30</td>\n",
       "      <td>United-States</td>\n",
       "      <td>&lt;=50K</td>\n",
       "    </tr>\n",
       "  </tbody>\n",
       "</table>\n",
       "</div>"
      ],
      "text/plain": [
       "   age   workclass      education  educationno        maritalstatus  \\\n",
       "0   25     Private           11th            7        Never-married   \n",
       "1   38     Private        HS-grad            9   Married-civ-spouse   \n",
       "2   28   Local-gov     Assoc-acdm           12   Married-civ-spouse   \n",
       "3   44     Private   Some-college           10   Married-civ-spouse   \n",
       "4   34     Private           10th            6        Never-married   \n",
       "\n",
       "           occupation    relationship    race    sex  capitalgain  \\\n",
       "0   Machine-op-inspct       Own-child   Black   Male            0   \n",
       "1     Farming-fishing         Husband   White   Male            0   \n",
       "2     Protective-serv         Husband   White   Male            0   \n",
       "3   Machine-op-inspct         Husband   Black   Male         7688   \n",
       "4       Other-service   Not-in-family   White   Male            0   \n",
       "\n",
       "   capitalloss  hoursperweek          native  Salary  \n",
       "0            0            40   United-States   <=50K  \n",
       "1            0            50   United-States   <=50K  \n",
       "2            0            40   United-States    >50K  \n",
       "3            0            40   United-States    >50K  \n",
       "4            0            30   United-States   <=50K  "
      ]
     },
     "execution_count": 76,
     "metadata": {},
     "output_type": "execute_result"
    }
   ],
   "source": [
    "Salary_Data_test.head()"
   ]
  },
  {
   "cell_type": "code",
   "execution_count": 77,
   "metadata": {
    "ExecuteTime": {
     "end_time": "2021-02-23T07:00:16.201301Z",
     "start_time": "2021-02-23T07:00:16.194283Z"
    }
   },
   "outputs": [
    {
     "data": {
      "text/plain": [
       "(15060, 14)"
      ]
     },
     "execution_count": 77,
     "metadata": {},
     "output_type": "execute_result"
    }
   ],
   "source": [
    "Salary_Data_test.shape"
   ]
  },
  {
   "cell_type": "code",
   "execution_count": 78,
   "metadata": {
    "ExecuteTime": {
     "end_time": "2021-02-23T07:00:18.481463Z",
     "start_time": "2021-02-23T07:00:18.477452Z"
    }
   },
   "outputs": [],
   "source": [
    "data_for_test=pd.DataFrame(Salary_Data_test)"
   ]
  },
  {
   "cell_type": "code",
   "execution_count": 79,
   "metadata": {
    "ExecuteTime": {
     "end_time": "2021-02-23T07:00:21.104545Z",
     "start_time": "2021-02-23T07:00:20.896993Z"
    }
   },
   "outputs": [
    {
     "data": {
      "text/plain": [
       "<matplotlib.collections.PathCollection at 0x1aed10124c0>"
      ]
     },
     "execution_count": 79,
     "metadata": {},
     "output_type": "execute_result"
    },
    {
     "data": {
      "image/png": "[encoded data removed]",
      "text/plain": [
       "<Figure size 432x288 with 1 Axes>"
      ]
     },
     "metadata": {
      "needs_background": "light"
     },
     "output_type": "display_data"
    }
   ],
   "source": [
    "plt.scatter(data_for_test.age,data_for_test.Salary)"
   ]
  },
  {
   "cell_type": "code",
   "execution_count": 80,
   "metadata": {
    "ExecuteTime": {
     "end_time": "2021-02-23T07:00:25.234250Z",
     "start_time": "2021-02-23T07:00:25.198152Z"
    }
   },
   "outputs": [
    {
     "name": "stdout",
     "output_type": "stream",
     "text": [
      "       age      workclass      education  educationno        maritalstatus  \\\n",
      "0       25        Private           11th            7        Never-married   \n",
      "1       38        Private        HS-grad            9   Married-civ-spouse   \n",
      "2       28      Local-gov     Assoc-acdm           12   Married-civ-spouse   \n",
      "3       44        Private   Some-college           10   Married-civ-spouse   \n",
      "4       34        Private           10th            6        Never-married   \n",
      "...    ...            ...            ...          ...                  ...   \n",
      "15055   33        Private      Bachelors           13        Never-married   \n",
      "15056   39        Private      Bachelors           13             Divorced   \n",
      "15057   38        Private      Bachelors           13   Married-civ-spouse   \n",
      "15058   44        Private      Bachelors           13             Divorced   \n",
      "15059   35   Self-emp-inc      Bachelors           13   Married-civ-spouse   \n",
      "\n",
      "               occupation    relationship                 race      sex  \\\n",
      "0       Machine-op-inspct       Own-child                Black     Male   \n",
      "1         Farming-fishing         Husband                White     Male   \n",
      "2         Protective-serv         Husband                White     Male   \n",
      "3       Machine-op-inspct         Husband                Black     Male   \n",
      "4           Other-service   Not-in-family                White     Male   \n",
      "...                   ...             ...                  ...      ...   \n",
      "15055      Prof-specialty       Own-child                White     Male   \n",
      "15056      Prof-specialty   Not-in-family                White   Female   \n",
      "15057      Prof-specialty         Husband                White     Male   \n",
      "15058        Adm-clerical       Own-child   Asian-Pac-Islander     Male   \n",
      "15059     Exec-managerial         Husband                White     Male   \n",
      "\n",
      "       capitalgain  capitalloss  hoursperweek          native  Salary  \\\n",
      "0                0            0            40   United-States   <=50K   \n",
      "1                0            0            50   United-States   <=50K   \n",
      "2                0            0            40   United-States    >50K   \n",
      "3             7688            0            40   United-States    >50K   \n",
      "4                0            0            30   United-States   <=50K   \n",
      "...            ...          ...           ...             ...     ...   \n",
      "15055            0            0            40   United-States   <=50K   \n",
      "15056            0            0            36   United-States   <=50K   \n",
      "15057            0            0            50   United-States   <=50K   \n",
      "15058         5455            0            40   United-States   <=50K   \n",
      "15059            0            0            60   United-States    >50K   \n",
      "\n",
      "       sex_ Female  sex_ Male  \n",
      "0                0          1  \n",
      "1                0          1  \n",
      "2                0          1  \n",
      "3                0          1  \n",
      "4                0          1  \n",
      "...            ...        ...  \n",
      "15055            0          1  \n",
      "15056            1          0  \n",
      "15057            0          1  \n",
      "15058            0          1  \n",
      "15059            0          1  \n",
      "\n",
      "[15060 rows x 16 columns]\n"
     ]
    }
   ],
   "source": [
    "# create dummies for sex\n",
    "dummies = pd.get_dummies(data_for_test['sex']).rename(columns=lambda x: 'sex_' + str(x))\n",
    "# bring the dummies back into the original dataset\n",
    "data_for_test = pd.concat([data_for_test, dummies], axis=1)\n",
    "print(data_for_test)"
   ]
  },
  {
   "cell_type": "code",
   "execution_count": 81,
   "metadata": {
    "ExecuteTime": {
     "end_time": "2021-02-23T07:00:30.755176Z",
     "start_time": "2021-02-23T07:00:30.698026Z"
    }
   },
   "outputs": [
    {
     "name": "stdout",
     "output_type": "stream",
     "text": [
      "       age      workclass      education  educationno        maritalstatus  \\\n",
      "0       25        Private           11th            7        Never-married   \n",
      "1       38        Private        HS-grad            9   Married-civ-spouse   \n",
      "2       28      Local-gov     Assoc-acdm           12   Married-civ-spouse   \n",
      "3       44        Private   Some-college           10   Married-civ-spouse   \n",
      "4       34        Private           10th            6        Never-married   \n",
      "...    ...            ...            ...          ...                  ...   \n",
      "15055   33        Private      Bachelors           13        Never-married   \n",
      "15056   39        Private      Bachelors           13             Divorced   \n",
      "15057   38        Private      Bachelors           13   Married-civ-spouse   \n",
      "15058   44        Private      Bachelors           13             Divorced   \n",
      "15059   35   Self-emp-inc      Bachelors           13   Married-civ-spouse   \n",
      "\n",
      "               occupation    relationship                 race      sex  \\\n",
      "0       Machine-op-inspct       Own-child                Black     Male   \n",
      "1         Farming-fishing         Husband                White     Male   \n",
      "2         Protective-serv         Husband                White     Male   \n",
      "3       Machine-op-inspct         Husband                Black     Male   \n",
      "4           Other-service   Not-in-family                White     Male   \n",
      "...                   ...             ...                  ...      ...   \n",
      "15055      Prof-specialty       Own-child                White     Male   \n",
      "15056      Prof-specialty   Not-in-family                White   Female   \n",
      "15057      Prof-specialty         Husband                White     Male   \n",
      "15058        Adm-clerical       Own-child   Asian-Pac-Islander     Male   \n",
      "15059     Exec-managerial         Husband                White     Male   \n",
      "\n",
      "       capitalgain  ...  Salary  sex_ Female sex_ Male  \\\n",
      "0                0  ...   <=50K            0         1   \n",
      "1                0  ...   <=50K            0         1   \n",
      "2                0  ...    >50K            0         1   \n",
      "3             7688  ...    >50K            0         1   \n",
      "4                0  ...   <=50K            0         1   \n",
      "...            ...  ...     ...          ...       ...   \n",
      "15055            0  ...   <=50K            0         1   \n",
      "15056            0  ...   <=50K            1         0   \n",
      "15057            0  ...   <=50K            0         1   \n",
      "15058         5455  ...   <=50K            0         1   \n",
      "15059            0  ...    >50K            0         1   \n",
      "\n",
      "      maritalstatus_ Divorced  maritalstatus_ Married-AF-spouse  \\\n",
      "0                           0                                 0   \n",
      "1                           0                                 0   \n",
      "2                           0                                 0   \n",
      "3                           0                                 0   \n",
      "4                           0                                 0   \n",
      "...                       ...                               ...   \n",
      "15055                       0                                 0   \n",
      "15056                       1                                 0   \n",
      "15057                       0                                 0   \n",
      "15058                       1                                 0   \n",
      "15059                       0                                 0   \n",
      "\n",
      "       maritalstatus_ Married-civ-spouse  \\\n",
      "0                                      0   \n",
      "1                                      1   \n",
      "2                                      1   \n",
      "3                                      1   \n",
      "4                                      0   \n",
      "...                                  ...   \n",
      "15055                                  0   \n",
      "15056                                  0   \n",
      "15057                                  1   \n",
      "15058                                  0   \n",
      "15059                                  1   \n",
      "\n",
      "       maritalstatus_ Married-spouse-absent  maritalstatus_ Never-married  \\\n",
      "0                                         0                             1   \n",
      "1                                         0                             0   \n",
      "2                                         0                             0   \n",
      "3                                         0                             0   \n",
      "4                                         0                             1   \n",
      "...                                     ...                           ...   \n",
      "15055                                     0                             1   \n",
      "15056                                     0                             0   \n",
      "15057                                     0                             0   \n",
      "15058                                     0                             0   \n",
      "15059                                     0                             0   \n",
      "\n",
      "       maritalstatus_ Separated  maritalstatus_ Widowed  \n",
      "0                             0                       0  \n",
      "1                             0                       0  \n",
      "2                             0                       0  \n",
      "3                             0                       0  \n",
      "4                             0                       0  \n",
      "...                         ...                     ...  \n",
      "15055                         0                       0  \n",
      "15056                         0                       0  \n",
      "15057                         0                       0  \n",
      "15058                         0                       0  \n",
      "15059                         0                       0  \n",
      "\n",
      "[15060 rows x 23 columns]\n"
     ]
    }
   ],
   "source": [
    "# create dummies for maritalstatus\n",
    "dummies = pd.get_dummies(data_for_test['maritalstatus']).rename(columns=lambda x: 'maritalstatus_' + str(x))\n",
    "# bring the dummies back into the original dataset\n",
    "data_for_test = pd.concat([data_for_test, dummies], axis=1)\n",
    "print(data_for_test)"
   ]
  },
  {
   "cell_type": "code",
   "execution_count": 82,
   "metadata": {
    "ExecuteTime": {
     "end_time": "2021-02-23T07:00:36.876185Z",
     "start_time": "2021-02-23T07:00:36.870170Z"
    }
   },
   "outputs": [
    {
     "data": {
      "text/plain": [
       "Index(['age', 'workclass', 'education', 'educationno', 'maritalstatus',\n",
       "       'occupation', 'relationship', 'race', 'sex', 'capitalgain',\n",
       "       'capitalloss', 'hoursperweek', 'native', 'Salary', 'sex_ Female',\n",
       "       'sex_ Male', 'maritalstatus_ Divorced',\n",
       "       'maritalstatus_ Married-AF-spouse', 'maritalstatus_ Married-civ-spouse',\n",
       "       'maritalstatus_ Married-spouse-absent', 'maritalstatus_ Never-married',\n",
       "       'maritalstatus_ Separated', 'maritalstatus_ Widowed'],\n",
       "      dtype='object')"
      ]
     },
     "execution_count": 82,
     "metadata": {},
     "output_type": "execute_result"
    }
   ],
   "source": [
    "data_for_test.columns"
   ]
  },
  {
   "cell_type": "code",
   "execution_count": 83,
   "metadata": {
    "ExecuteTime": {
     "end_time": "2021-02-23T07:00:40.331258Z",
     "start_time": "2021-02-23T07:00:40.312205Z"
    }
   },
   "outputs": [],
   "source": [
    "col = list(data_for_test.columns)[1:3]\n",
    "data_for_test.drop(col, axis=1, inplace=True)"
   ]
  },
  {
   "cell_type": "code",
   "execution_count": 84,
   "metadata": {
    "ExecuteTime": {
     "end_time": "2021-02-23T07:00:42.465162Z",
     "start_time": "2021-02-23T07:00:42.456136Z"
    }
   },
   "outputs": [],
   "source": [
    "col = list(data_for_test.columns)[2:11]\n",
    "data_for_test.drop(col, axis=1, inplace=True)"
   ]
  },
  {
   "cell_type": "code",
   "execution_count": 85,
   "metadata": {
    "ExecuteTime": {
     "end_time": "2021-02-23T07:00:45.814682Z",
     "start_time": "2021-02-23T07:00:45.807698Z"
    }
   },
   "outputs": [
    {
     "data": {
      "text/plain": [
       "Index(['age', 'educationno', 'Salary', 'sex_ Female', 'sex_ Male',\n",
       "       'maritalstatus_ Divorced', 'maritalstatus_ Married-AF-spouse',\n",
       "       'maritalstatus_ Married-civ-spouse',\n",
       "       'maritalstatus_ Married-spouse-absent', 'maritalstatus_ Never-married',\n",
       "       'maritalstatus_ Separated', 'maritalstatus_ Widowed'],\n",
       "      dtype='object')"
      ]
     },
     "execution_count": 85,
     "metadata": {},
     "output_type": "execute_result"
    }
   ],
   "source": [
    "data_for_test.columns"
   ]
  },
  {
   "cell_type": "code",
   "execution_count": 86,
   "metadata": {
    "ExecuteTime": {
     "end_time": "2021-02-23T07:00:49.743634Z",
     "start_time": "2021-02-23T07:00:49.736614Z"
    }
   },
   "outputs": [
    {
     "data": {
      "text/plain": [
       "(15060, 12)"
      ]
     },
     "execution_count": 86,
     "metadata": {},
     "output_type": "execute_result"
    }
   ],
   "source": [
    "data_for_test.shape"
   ]
  },
  {
   "cell_type": "code",
   "execution_count": 87,
   "metadata": {
    "ExecuteTime": {
     "end_time": "2021-02-23T07:00:52.611953Z",
     "start_time": "2021-02-23T07:00:52.606941Z"
    }
   },
   "outputs": [],
   "source": [
    "ip_columns = ['age','educationno','sex_ Female','sex_ Male','maritalstatus_ Divorced','maritalstatus_ Married-AF-spouse','maritalstatus_ Married-civ-spouse','maritalstatus_ Married-spouse-absent','maritalstatus_ Never-married','maritalstatus_ Separated','maritalstatus_ Widowed']\n",
    "op_column = ['Salary']"
   ]
  },
  {
   "cell_type": "code",
   "execution_count": 88,
   "metadata": {
    "ExecuteTime": {
     "end_time": "2021-02-23T07:00:56.906383Z",
     "start_time": "2021-02-23T07:00:56.889337Z"
    }
   },
   "outputs": [],
   "source": [
    "# Splitting data into train and test\n",
    "Xtrain,Xtest,ytrain,ytest = train_test_split(data_for_test[ip_columns],data_for_test[op_column],test_size=0.3, random_state=0)\n"
   ]
  },
  {
   "cell_type": "code",
   "execution_count": 89,
   "metadata": {
    "ExecuteTime": {
     "end_time": "2021-02-23T07:00:59.297945Z",
     "start_time": "2021-02-23T07:00:59.293926Z"
    }
   },
   "outputs": [],
   "source": [
    "ignb = GaussianNB()\n",
    "imnb = MultinomialNB()"
   ]
  },
  {
   "cell_type": "code",
   "execution_count": 90,
   "metadata": {
    "ExecuteTime": {
     "end_time": "2021-02-23T07:01:01.566457Z",
     "start_time": "2021-02-23T07:01:01.532368Z"
    }
   },
   "outputs": [
    {
     "data": {
      "text/html": [
       "<div>\n",
       "<style scoped>\n",
       "    .dataframe tbody tr th:only-of-type {\n",
       "        vertical-align: middle;\n",
       "    }\n",
       "\n",
       "    .dataframe tbody tr th {\n",
       "        vertical-align: top;\n",
       "    }\n",
       "\n",
       "    .dataframe thead th {\n",
       "        text-align: right;\n",
       "    }\n",
       "</style>\n",
       "<table border=\"1\" class=\"dataframe\">\n",
       "  <thead>\n",
       "    <tr style=\"text-align: right;\">\n",
       "      <th></th>\n",
       "      <th>age</th>\n",
       "      <th>educationno</th>\n",
       "      <th>Salary</th>\n",
       "      <th>sex_ Female</th>\n",
       "      <th>sex_ Male</th>\n",
       "      <th>maritalstatus_ Divorced</th>\n",
       "      <th>maritalstatus_ Married-AF-spouse</th>\n",
       "      <th>maritalstatus_ Married-civ-spouse</th>\n",
       "      <th>maritalstatus_ Married-spouse-absent</th>\n",
       "      <th>maritalstatus_ Never-married</th>\n",
       "      <th>maritalstatus_ Separated</th>\n",
       "      <th>maritalstatus_ Widowed</th>\n",
       "    </tr>\n",
       "  </thead>\n",
       "  <tbody>\n",
       "    <tr>\n",
       "      <th>0</th>\n",
       "      <td>25</td>\n",
       "      <td>7</td>\n",
       "      <td>&lt;=50K</td>\n",
       "      <td>0</td>\n",
       "      <td>1</td>\n",
       "      <td>0</td>\n",
       "      <td>0</td>\n",
       "      <td>0</td>\n",
       "      <td>0</td>\n",
       "      <td>1</td>\n",
       "      <td>0</td>\n",
       "      <td>0</td>\n",
       "    </tr>\n",
       "    <tr>\n",
       "      <th>1</th>\n",
       "      <td>38</td>\n",
       "      <td>9</td>\n",
       "      <td>&lt;=50K</td>\n",
       "      <td>0</td>\n",
       "      <td>1</td>\n",
       "      <td>0</td>\n",
       "      <td>0</td>\n",
       "      <td>1</td>\n",
       "      <td>0</td>\n",
       "      <td>0</td>\n",
       "      <td>0</td>\n",
       "      <td>0</td>\n",
       "    </tr>\n",
       "    <tr>\n",
       "      <th>2</th>\n",
       "      <td>28</td>\n",
       "      <td>12</td>\n",
       "      <td>&gt;50K</td>\n",
       "      <td>0</td>\n",
       "      <td>1</td>\n",
       "      <td>0</td>\n",
       "      <td>0</td>\n",
       "      <td>1</td>\n",
       "      <td>0</td>\n",
       "      <td>0</td>\n",
       "      <td>0</td>\n",
       "      <td>0</td>\n",
       "    </tr>\n",
       "    <tr>\n",
       "      <th>3</th>\n",
       "      <td>44</td>\n",
       "      <td>10</td>\n",
       "      <td>&gt;50K</td>\n",
       "      <td>0</td>\n",
       "      <td>1</td>\n",
       "      <td>0</td>\n",
       "      <td>0</td>\n",
       "      <td>1</td>\n",
       "      <td>0</td>\n",
       "      <td>0</td>\n",
       "      <td>0</td>\n",
       "      <td>0</td>\n",
       "    </tr>\n",
       "    <tr>\n",
       "      <th>4</th>\n",
       "      <td>34</td>\n",
       "      <td>6</td>\n",
       "      <td>&lt;=50K</td>\n",
       "      <td>0</td>\n",
       "      <td>1</td>\n",
       "      <td>0</td>\n",
       "      <td>0</td>\n",
       "      <td>0</td>\n",
       "      <td>0</td>\n",
       "      <td>1</td>\n",
       "      <td>0</td>\n",
       "      <td>0</td>\n",
       "    </tr>\n",
       "    <tr>\n",
       "      <th>5</th>\n",
       "      <td>63</td>\n",
       "      <td>15</td>\n",
       "      <td>&gt;50K</td>\n",
       "      <td>0</td>\n",
       "      <td>1</td>\n",
       "      <td>0</td>\n",
       "      <td>0</td>\n",
       "      <td>1</td>\n",
       "      <td>0</td>\n",
       "      <td>0</td>\n",
       "      <td>0</td>\n",
       "      <td>0</td>\n",
       "    </tr>\n",
       "    <tr>\n",
       "      <th>6</th>\n",
       "      <td>24</td>\n",
       "      <td>10</td>\n",
       "      <td>&lt;=50K</td>\n",
       "      <td>1</td>\n",
       "      <td>0</td>\n",
       "      <td>0</td>\n",
       "      <td>0</td>\n",
       "      <td>0</td>\n",
       "      <td>0</td>\n",
       "      <td>1</td>\n",
       "      <td>0</td>\n",
       "      <td>0</td>\n",
       "    </tr>\n",
       "    <tr>\n",
       "      <th>7</th>\n",
       "      <td>55</td>\n",
       "      <td>4</td>\n",
       "      <td>&lt;=50K</td>\n",
       "      <td>0</td>\n",
       "      <td>1</td>\n",
       "      <td>0</td>\n",
       "      <td>0</td>\n",
       "      <td>1</td>\n",
       "      <td>0</td>\n",
       "      <td>0</td>\n",
       "      <td>0</td>\n",
       "      <td>0</td>\n",
       "    </tr>\n",
       "    <tr>\n",
       "      <th>8</th>\n",
       "      <td>65</td>\n",
       "      <td>9</td>\n",
       "      <td>&gt;50K</td>\n",
       "      <td>0</td>\n",
       "      <td>1</td>\n",
       "      <td>0</td>\n",
       "      <td>0</td>\n",
       "      <td>1</td>\n",
       "      <td>0</td>\n",
       "      <td>0</td>\n",
       "      <td>0</td>\n",
       "      <td>0</td>\n",
       "    </tr>\n",
       "    <tr>\n",
       "      <th>9</th>\n",
       "      <td>36</td>\n",
       "      <td>13</td>\n",
       "      <td>&lt;=50K</td>\n",
       "      <td>0</td>\n",
       "      <td>1</td>\n",
       "      <td>0</td>\n",
       "      <td>0</td>\n",
       "      <td>1</td>\n",
       "      <td>0</td>\n",
       "      <td>0</td>\n",
       "      <td>0</td>\n",
       "      <td>0</td>\n",
       "    </tr>\n",
       "    <tr>\n",
       "      <th>10</th>\n",
       "      <td>26</td>\n",
       "      <td>9</td>\n",
       "      <td>&lt;=50K</td>\n",
       "      <td>1</td>\n",
       "      <td>0</td>\n",
       "      <td>0</td>\n",
       "      <td>0</td>\n",
       "      <td>0</td>\n",
       "      <td>0</td>\n",
       "      <td>1</td>\n",
       "      <td>0</td>\n",
       "      <td>0</td>\n",
       "    </tr>\n",
       "    <tr>\n",
       "      <th>11</th>\n",
       "      <td>48</td>\n",
       "      <td>9</td>\n",
       "      <td>&gt;50K</td>\n",
       "      <td>0</td>\n",
       "      <td>1</td>\n",
       "      <td>0</td>\n",
       "      <td>0</td>\n",
       "      <td>1</td>\n",
       "      <td>0</td>\n",
       "      <td>0</td>\n",
       "      <td>0</td>\n",
       "      <td>0</td>\n",
       "    </tr>\n",
       "    <tr>\n",
       "      <th>12</th>\n",
       "      <td>43</td>\n",
       "      <td>14</td>\n",
       "      <td>&gt;50K</td>\n",
       "      <td>0</td>\n",
       "      <td>1</td>\n",
       "      <td>0</td>\n",
       "      <td>0</td>\n",
       "      <td>1</td>\n",
       "      <td>0</td>\n",
       "      <td>0</td>\n",
       "      <td>0</td>\n",
       "      <td>0</td>\n",
       "    </tr>\n",
       "    <tr>\n",
       "      <th>13</th>\n",
       "      <td>20</td>\n",
       "      <td>10</td>\n",
       "      <td>&lt;=50K</td>\n",
       "      <td>0</td>\n",
       "      <td>1</td>\n",
       "      <td>0</td>\n",
       "      <td>0</td>\n",
       "      <td>0</td>\n",
       "      <td>0</td>\n",
       "      <td>1</td>\n",
       "      <td>0</td>\n",
       "      <td>0</td>\n",
       "    </tr>\n",
       "    <tr>\n",
       "      <th>14</th>\n",
       "      <td>43</td>\n",
       "      <td>9</td>\n",
       "      <td>&lt;=50K</td>\n",
       "      <td>1</td>\n",
       "      <td>0</td>\n",
       "      <td>0</td>\n",
       "      <td>0</td>\n",
       "      <td>1</td>\n",
       "      <td>0</td>\n",
       "      <td>0</td>\n",
       "      <td>0</td>\n",
       "      <td>0</td>\n",
       "    </tr>\n",
       "    <tr>\n",
       "      <th>15</th>\n",
       "      <td>37</td>\n",
       "      <td>9</td>\n",
       "      <td>&lt;=50K</td>\n",
       "      <td>1</td>\n",
       "      <td>0</td>\n",
       "      <td>0</td>\n",
       "      <td>0</td>\n",
       "      <td>0</td>\n",
       "      <td>0</td>\n",
       "      <td>0</td>\n",
       "      <td>0</td>\n",
       "      <td>1</td>\n",
       "    </tr>\n",
       "    <tr>\n",
       "      <th>16</th>\n",
       "      <td>34</td>\n",
       "      <td>13</td>\n",
       "      <td>&gt;50K</td>\n",
       "      <td>0</td>\n",
       "      <td>1</td>\n",
       "      <td>0</td>\n",
       "      <td>0</td>\n",
       "      <td>1</td>\n",
       "      <td>0</td>\n",
       "      <td>0</td>\n",
       "      <td>0</td>\n",
       "      <td>0</td>\n",
       "    </tr>\n",
       "    <tr>\n",
       "      <th>17</th>\n",
       "      <td>34</td>\n",
       "      <td>10</td>\n",
       "      <td>&lt;=50K</td>\n",
       "      <td>1</td>\n",
       "      <td>0</td>\n",
       "      <td>0</td>\n",
       "      <td>0</td>\n",
       "      <td>0</td>\n",
       "      <td>0</td>\n",
       "      <td>1</td>\n",
       "      <td>0</td>\n",
       "      <td>0</td>\n",
       "    </tr>\n",
       "    <tr>\n",
       "      <th>18</th>\n",
       "      <td>25</td>\n",
       "      <td>13</td>\n",
       "      <td>&lt;=50K</td>\n",
       "      <td>0</td>\n",
       "      <td>1</td>\n",
       "      <td>0</td>\n",
       "      <td>0</td>\n",
       "      <td>0</td>\n",
       "      <td>0</td>\n",
       "      <td>1</td>\n",
       "      <td>0</td>\n",
       "      <td>0</td>\n",
       "    </tr>\n",
       "    <tr>\n",
       "      <th>19</th>\n",
       "      <td>25</td>\n",
       "      <td>13</td>\n",
       "      <td>&lt;=50K</td>\n",
       "      <td>0</td>\n",
       "      <td>1</td>\n",
       "      <td>0</td>\n",
       "      <td>0</td>\n",
       "      <td>1</td>\n",
       "      <td>0</td>\n",
       "      <td>0</td>\n",
       "      <td>0</td>\n",
       "      <td>0</td>\n",
       "    </tr>\n",
       "  </tbody>\n",
       "</table>\n",
       "</div>"
      ],
      "text/plain": [
       "    age  educationno  Salary  sex_ Female  sex_ Male  maritalstatus_ Divorced  \\\n",
       "0    25            7   <=50K            0          1                        0   \n",
       "1    38            9   <=50K            0          1                        0   \n",
       "2    28           12    >50K            0          1                        0   \n",
       "3    44           10    >50K            0          1                        0   \n",
       "4    34            6   <=50K            0          1                        0   \n",
       "5    63           15    >50K            0          1                        0   \n",
       "6    24           10   <=50K            1          0                        0   \n",
       "7    55            4   <=50K            0          1                        0   \n",
       "8    65            9    >50K            0          1                        0   \n",
       "9    36           13   <=50K            0          1                        0   \n",
       "10   26            9   <=50K            1          0                        0   \n",
       "11   48            9    >50K            0          1                        0   \n",
       "12   43           14    >50K            0          1                        0   \n",
       "13   20           10   <=50K            0          1                        0   \n",
       "14   43            9   <=50K            1          0                        0   \n",
       "15   37            9   <=50K            1          0                        0   \n",
       "16   34           13    >50K            0          1                        0   \n",
       "17   34           10   <=50K            1          0                        0   \n",
       "18   25           13   <=50K            0          1                        0   \n",
       "19   25           13   <=50K            0          1                        0   \n",
       "\n",
       "    maritalstatus_ Married-AF-spouse  maritalstatus_ Married-civ-spouse  \\\n",
       "0                                  0                                  0   \n",
       "1                                  0                                  1   \n",
       "2                                  0                                  1   \n",
       "3                                  0                                  1   \n",
       "4                                  0                                  0   \n",
       "5                                  0                                  1   \n",
       "6                                  0                                  0   \n",
       "7                                  0                                  1   \n",
       "8                                  0                                  1   \n",
       "9                                  0                                  1   \n",
       "10                                 0                                  0   \n",
       "11                                 0                                  1   \n",
       "12                                 0                                  1   \n",
       "13                                 0                                  0   \n",
       "14                                 0                                  1   \n",
       "15                                 0                                  0   \n",
       "16                                 0                                  1   \n",
       "17                                 0                                  0   \n",
       "18                                 0                                  0   \n",
       "19                                 0                                  1   \n",
       "\n",
       "    maritalstatus_ Married-spouse-absent  maritalstatus_ Never-married  \\\n",
       "0                                      0                             1   \n",
       "1                                      0                             0   \n",
       "2                                      0                             0   \n",
       "3                                      0                             0   \n",
       "4                                      0                             1   \n",
       "5                                      0                             0   \n",
       "6                                      0                             1   \n",
       "7                                      0                             0   \n",
       "8                                      0                             0   \n",
       "9                                      0                             0   \n",
       "10                                     0                             1   \n",
       "11                                     0                             0   \n",
       "12                                     0                             0   \n",
       "13                                     0                             1   \n",
       "14                                     0                             0   \n",
       "15                                     0                             0   \n",
       "16                                     0                             0   \n",
       "17                                     0                             1   \n",
       "18                                     0                             1   \n",
       "19                                     0                             0   \n",
       "\n",
       "    maritalstatus_ Separated  maritalstatus_ Widowed  \n",
       "0                          0                       0  \n",
       "1                          0                       0  \n",
       "2                          0                       0  \n",
       "3                          0                       0  \n",
       "4                          0                       0  \n",
       "5                          0                       0  \n",
       "6                          0                       0  \n",
       "7                          0                       0  \n",
       "8                          0                       0  \n",
       "9                          0                       0  \n",
       "10                         0                       0  \n",
       "11                         0                       0  \n",
       "12                         0                       0  \n",
       "13                         0                       0  \n",
       "14                         0                       0  \n",
       "15                         0                       1  \n",
       "16                         0                       0  \n",
       "17                         0                       0  \n",
       "18                         0                       0  \n",
       "19                         0                       0  "
      ]
     },
     "execution_count": 90,
     "metadata": {},
     "output_type": "execute_result"
    }
   ],
   "source": [
    "data_for_test.head(20)"
   ]
  },
  {
   "cell_type": "code",
   "execution_count": 91,
   "metadata": {
    "ExecuteTime": {
     "end_time": "2021-02-23T07:01:06.206307Z",
     "start_time": "2021-02-23T07:01:06.119078Z"
    }
   },
   "outputs": [
    {
     "name": "stderr",
     "output_type": "stream",
     "text": [
      "C:\\Users\\user\\anaconda3\\lib\\site-packages\\sklearn\\utils\\validation.py:73: DataConversionWarning: A column-vector y was passed when a 1d array was expected. Please change the shape of y to (n_samples, ), for example using ravel().\n",
      "  return f(**kwargs)\n",
      "C:\\Users\\user\\anaconda3\\lib\\site-packages\\sklearn\\utils\\validation.py:73: DataConversionWarning: A column-vector y was passed when a 1d array was expected. Please change the shape of y to (n_samples, ), for example using ravel().\n",
      "  return f(**kwargs)\n"
     ]
    }
   ],
   "source": [
    "# Building and predicting at the same time \n",
    "pred_gnb = ignb.fit(Xtrain,ytrain).predict(Xtest)\n",
    "pred_mnb = imnb.fit(Xtrain,ytrain).predict(Xtest)"
   ]
  },
  {
   "cell_type": "code",
   "execution_count": 92,
   "metadata": {
    "ExecuteTime": {
     "end_time": "2021-02-23T07:01:08.637002Z",
     "start_time": "2021-02-23T07:01:08.583861Z"
    }
   },
   "outputs": [
    {
     "data": {
      "text/plain": [
       "0.7248782647189022"
      ]
     },
     "execution_count": 92,
     "metadata": {},
     "output_type": "execute_result"
    }
   ],
   "source": [
    "# Confusion matrix GaussianNB model\n",
    "confusion_matrix(ytest,pred_gnb) # GaussianNB model\n",
    "pd.crosstab(ytest.values.flatten(),pred_gnb) # confusion matrix using \n",
    "np.mean(pred_gnb==ytest.values.flatten()) # 71.89%"
   ]
  },
  {
   "cell_type": "code",
   "execution_count": 93,
   "metadata": {
    "ExecuteTime": {
     "end_time": "2021-02-23T07:01:12.526998Z",
     "start_time": "2021-02-23T07:01:12.477867Z"
    }
   },
   "outputs": [
    {
     "data": {
      "text/plain": [
       "0.7268702965914121"
      ]
     },
     "execution_count": 93,
     "metadata": {},
     "output_type": "execute_result"
    }
   ],
   "source": [
    "# Confusion matrix multinomialNB model\n",
    "confusion_matrix(ytest,pred_mnb) # multinomialNB model\n",
    "pd.crosstab(ytest.values.flatten(),pred_mnb) # confusion matrix using \n",
    "np.mean(pred_mnb==ytest.values.flatten()) # 71.52%"
   ]
  },
  {
   "cell_type": "code",
   "execution_count": 94,
   "metadata": {
    "ExecuteTime": {
     "end_time": "2021-02-23T07:01:15.269931Z",
     "start_time": "2021-02-23T07:01:15.232831Z"
    }
   },
   "outputs": [
    {
     "data": {
      "text/plain": [
       "array([[2413,  972],\n",
       "       [ 262,  871]], dtype=int64)"
      ]
     },
     "execution_count": 94,
     "metadata": {},
     "output_type": "execute_result"
    }
   ],
   "source": [
    "confusion_matrix(ytest,pred_mnb) # multinomailNB model"
   ]
  },
  {
   "cell_type": "code",
   "execution_count": 95,
   "metadata": {
    "ExecuteTime": {
     "end_time": "2021-02-23T07:01:18.808499Z",
     "start_time": "2021-02-23T07:01:18.778418Z"
    }
   },
   "outputs": [
    {
     "data": {
      "text/plain": [
       "array([[2335, 1050],\n",
       "       [ 193,  940]], dtype=int64)"
      ]
     },
     "execution_count": 95,
     "metadata": {},
     "output_type": "execute_result"
    }
   ],
   "source": [
    "confusion_matrix(ytest,pred_gnb) # GaussianNB model"
   ]
  },
  {
   "cell_type": "code",
   "execution_count": null,
   "metadata": {},
   "outputs": [],
   "source": []
  }
 ],
 "metadata": {
  "kernelspec": {
   "display_name": "Python 3",
   "language": "python",
   "name": "python3"
  },
  "language_info": {
   "codemirror_mode": {
    "name": "ipython",
    "version": 3
   },
   "file_extension": ".py",
   "mimetype": "text/x-python",
   "name": "python",
   "nbconvert_exporter": "python",
   "pygments_lexer": "ipython3",
   "version": "3.8.3"
  },
  "varInspector": {
   "cols": {
    "lenName": 16,
    "lenType": 16,
    "lenVar": 40
   },
   "kernels_config": {
    "python": {
     "delete_cmd_postfix": "",
     "delete_cmd_prefix": "del ",
     "library": "var_list.py",
     "varRefreshCmd": "print(var_dic_list())"
    },
    "r": {
     "delete_cmd_postfix": ") ",
     "delete_cmd_prefix": "rm(",
     "library": "var_list.r",
     "varRefreshCmd": "cat(var_dic_list()) "
    }
   },
   "types_to_exclude": [
    "module",
    "function",
    "builtin_function_or_method",
    "instance",
    "_Feature"
   ],
   "window_display": false
  }
 },
 "nbformat": 4,
 "nbformat_minor": 4
}
